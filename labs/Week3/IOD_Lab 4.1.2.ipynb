{
 "cells": [
  {
   "cell_type": "markdown",
   "metadata": {
    "colab_type": "text",
    "id": "fpsJ8d42XWua"
   },
   "source": [
    "<div>\n",
    "<img src=https://www.institutedata.com/wp-content/uploads/2019/10/iod_h_tp_primary_c.svg width=\"300\">\n",
    "</div>"
   ]
  },
  {
   "cell_type": "markdown",
   "metadata": {
    "colab_type": "text",
    "id": "CSHa05-1XWub"
   },
   "source": [
    "# Lab 4.1.2 Linear Regression"
   ]
  },
  {
   "cell_type": "markdown",
   "metadata": {
    "colab_type": "text",
    "id": "lZ0RQEDgXWuc"
   },
   "source": [
    "## Prediction of House Price Using Linear Regression"
   ]
  },
  {
   "cell_type": "markdown",
   "metadata": {
    "colab_type": "text",
    "id": "96_GqGXCXWud"
   },
   "source": [
    "### Data\n",
    "\n",
    "The Sacramento real estate transactions file is a list of 985 real estate transactions in the Sacramento area reported over a five-day period, as reported by the Sacramento Bee."
   ]
  },
  {
   "cell_type": "code",
   "execution_count": 1,
   "metadata": {
    "colab": {},
    "colab_type": "code",
    "id": "l1leeqkAXWug"
   },
   "outputs": [],
   "source": [
    "import pandas as pd\n",
    "import numpy as np\n",
    "import pandas as pd\n",
    "\n",
    "\n",
    "\n",
    "%matplotlib inline"
   ]
  },
  {
   "cell_type": "markdown",
   "metadata": {
    "colab_type": "text",
    "id": "S0zFU75NXWuj"
   },
   "source": [
    "### 1. Explore Data"
   ]
  },
  {
   "cell_type": "markdown",
   "metadata": {
    "colab_type": "text",
    "id": "kaShnXBCXWuk"
   },
   "source": [
    "Perform EDA on this dataset. Find Dependent and Independent Variables to predict house price."
   ]
  },
  {
   "cell_type": "code",
   "execution_count": 2,
   "metadata": {
    "colab": {},
    "colab_type": "code",
    "id": "oj3kd7vqXWul"
   },
   "outputs": [],
   "source": [
    "# Read CSV\n",
    "# Read CSV\n",
    "house_csv = pd.read_csv('C://Users/monic/Desktop/data science -insitute of dat/DATA/Sacramento_transactions.csv')"
   ]
  },
  {
   "cell_type": "code",
   "execution_count": 3,
   "metadata": {},
   "outputs": [
    {
     "data": {
      "text/plain": [
       "street       0\n",
       "city         0\n",
       "zip          0\n",
       "state        0\n",
       "beds         0\n",
       "baths        0\n",
       "sq__ft       0\n",
       "type         0\n",
       "sale_date    0\n",
       "price        0\n",
       "latitude     0\n",
       "longitude    0\n",
       "dtype: int64"
      ]
     },
     "execution_count": 3,
     "metadata": {},
     "output_type": "execute_result"
    }
   ],
   "source": [
    "pd.isnull(house_csv).sum()"
   ]
  },
  {
   "cell_type": "code",
   "execution_count": 4,
   "metadata": {},
   "outputs": [
    {
     "data": {
      "text/html": [
       "<div>\n",
       "<style scoped>\n",
       "    .dataframe tbody tr th:only-of-type {\n",
       "        vertical-align: middle;\n",
       "    }\n",
       "\n",
       "    .dataframe tbody tr th {\n",
       "        vertical-align: top;\n",
       "    }\n",
       "\n",
       "    .dataframe thead th {\n",
       "        text-align: right;\n",
       "    }\n",
       "</style>\n",
       "<table border=\"1\" class=\"dataframe\">\n",
       "  <thead>\n",
       "    <tr style=\"text-align: right;\">\n",
       "      <th></th>\n",
       "      <th>street</th>\n",
       "      <th>city</th>\n",
       "      <th>zip</th>\n",
       "      <th>state</th>\n",
       "      <th>beds</th>\n",
       "      <th>baths</th>\n",
       "      <th>sq__ft</th>\n",
       "      <th>type</th>\n",
       "      <th>sale_date</th>\n",
       "      <th>price</th>\n",
       "      <th>latitude</th>\n",
       "      <th>longitude</th>\n",
       "    </tr>\n",
       "  </thead>\n",
       "  <tbody>\n",
       "    <tr>\n",
       "      <th>0</th>\n",
       "      <td>3526 HIGH ST</td>\n",
       "      <td>SACRAMENTO</td>\n",
       "      <td>95838</td>\n",
       "      <td>CA</td>\n",
       "      <td>2</td>\n",
       "      <td>1</td>\n",
       "      <td>836</td>\n",
       "      <td>Residential</td>\n",
       "      <td>Wed May 21 00:00:00 EDT 2008</td>\n",
       "      <td>59222</td>\n",
       "      <td>38.631913</td>\n",
       "      <td>-121.434879</td>\n",
       "    </tr>\n",
       "    <tr>\n",
       "      <th>1</th>\n",
       "      <td>51 OMAHA CT</td>\n",
       "      <td>SACRAMENTO</td>\n",
       "      <td>95823</td>\n",
       "      <td>CA</td>\n",
       "      <td>3</td>\n",
       "      <td>1</td>\n",
       "      <td>1167</td>\n",
       "      <td>Residential</td>\n",
       "      <td>Wed May 21 00:00:00 EDT 2008</td>\n",
       "      <td>68212</td>\n",
       "      <td>38.478902</td>\n",
       "      <td>-121.431028</td>\n",
       "    </tr>\n",
       "    <tr>\n",
       "      <th>2</th>\n",
       "      <td>2796 BRANCH ST</td>\n",
       "      <td>SACRAMENTO</td>\n",
       "      <td>95815</td>\n",
       "      <td>CA</td>\n",
       "      <td>2</td>\n",
       "      <td>1</td>\n",
       "      <td>796</td>\n",
       "      <td>Residential</td>\n",
       "      <td>Wed May 21 00:00:00 EDT 2008</td>\n",
       "      <td>68880</td>\n",
       "      <td>38.618305</td>\n",
       "      <td>-121.443839</td>\n",
       "    </tr>\n",
       "    <tr>\n",
       "      <th>3</th>\n",
       "      <td>2805 JANETTE WAY</td>\n",
       "      <td>SACRAMENTO</td>\n",
       "      <td>95815</td>\n",
       "      <td>CA</td>\n",
       "      <td>2</td>\n",
       "      <td>1</td>\n",
       "      <td>852</td>\n",
       "      <td>Residential</td>\n",
       "      <td>Wed May 21 00:00:00 EDT 2008</td>\n",
       "      <td>69307</td>\n",
       "      <td>38.616835</td>\n",
       "      <td>-121.439146</td>\n",
       "    </tr>\n",
       "    <tr>\n",
       "      <th>4</th>\n",
       "      <td>6001 MCMAHON DR</td>\n",
       "      <td>SACRAMENTO</td>\n",
       "      <td>95824</td>\n",
       "      <td>CA</td>\n",
       "      <td>2</td>\n",
       "      <td>1</td>\n",
       "      <td>797</td>\n",
       "      <td>Residential</td>\n",
       "      <td>Wed May 21 00:00:00 EDT 2008</td>\n",
       "      <td>81900</td>\n",
       "      <td>38.519470</td>\n",
       "      <td>-121.435768</td>\n",
       "    </tr>\n",
       "  </tbody>\n",
       "</table>\n",
       "</div>"
      ],
      "text/plain": [
       "             street        city    zip state  beds  baths  sq__ft  \\\n",
       "0      3526 HIGH ST  SACRAMENTO  95838    CA     2      1     836   \n",
       "1       51 OMAHA CT  SACRAMENTO  95823    CA     3      1    1167   \n",
       "2    2796 BRANCH ST  SACRAMENTO  95815    CA     2      1     796   \n",
       "3  2805 JANETTE WAY  SACRAMENTO  95815    CA     2      1     852   \n",
       "4   6001 MCMAHON DR  SACRAMENTO  95824    CA     2      1     797   \n",
       "\n",
       "          type                     sale_date  price   latitude   longitude  \n",
       "0  Residential  Wed May 21 00:00:00 EDT 2008  59222  38.631913 -121.434879  \n",
       "1  Residential  Wed May 21 00:00:00 EDT 2008  68212  38.478902 -121.431028  \n",
       "2  Residential  Wed May 21 00:00:00 EDT 2008  68880  38.618305 -121.443839  \n",
       "3  Residential  Wed May 21 00:00:00 EDT 2008  69307  38.616835 -121.439146  \n",
       "4  Residential  Wed May 21 00:00:00 EDT 2008  81900  38.519470 -121.435768  "
      ]
     },
     "execution_count": 4,
     "metadata": {},
     "output_type": "execute_result"
    }
   ],
   "source": [
    "house_csv.head()"
   ]
  },
  {
   "cell_type": "code",
   "execution_count": 5,
   "metadata": {},
   "outputs": [
    {
     "name": "stdout",
     "output_type": "stream",
     "text": [
      "<class 'pandas.core.frame.DataFrame'>\n",
      "RangeIndex: 985 entries, 0 to 984\n",
      "Data columns (total 12 columns):\n",
      " #   Column     Non-Null Count  Dtype  \n",
      "---  ------     --------------  -----  \n",
      " 0   street     985 non-null    object \n",
      " 1   city       985 non-null    object \n",
      " 2   zip        985 non-null    int64  \n",
      " 3   state      985 non-null    object \n",
      " 4   beds       985 non-null    int64  \n",
      " 5   baths      985 non-null    int64  \n",
      " 6   sq__ft     985 non-null    int64  \n",
      " 7   type       985 non-null    object \n",
      " 8   sale_date  985 non-null    object \n",
      " 9   price      985 non-null    int64  \n",
      " 10  latitude   985 non-null    float64\n",
      " 11  longitude  985 non-null    float64\n",
      "dtypes: float64(2), int64(5), object(5)\n",
      "memory usage: 92.5+ KB\n"
     ]
    }
   ],
   "source": [
    "house_csv.info()"
   ]
  },
  {
   "cell_type": "code",
   "execution_count": 8,
   "metadata": {},
   "outputs": [
    {
     "name": "stderr",
     "output_type": "stream",
     "text": [
      "C:\\Users\\monic\\Anaconda3\\lib\\site-packages\\dateutil\\parser\\_parser.py:1213: UnknownTimezoneWarning: tzname EDT identified but not understood.  Pass `tzinfos` argument in order to correctly return a timezone-aware datetime.  In a future version, this will raise an exception.\n",
      "  warnings.warn(\"tzname {tzname} identified but not understood.  \"\n"
     ]
    }
   ],
   "source": [
    "house_csv['sale_date'] = pd.to_datetime(house_csv['sale_date'])\n"
   ]
  },
  {
   "cell_type": "markdown",
   "metadata": {
    "colab_type": "text",
    "id": "kQ_sd0-VXWuo"
   },
   "source": [
    "### 2. Predict Price"
   ]
  },
  {
   "cell_type": "markdown",
   "metadata": {
    "colab_type": "text",
    "id": "BsxIS3qqXWuq"
   },
   "source": [
    "We are going to predict `price` from available information."
   ]
  },
  {
   "cell_type": "markdown",
   "metadata": {
    "colab_type": "text",
    "id": "l9DkEfzHXWur"
   },
   "source": [
    "#### 2.1 What is the Target Variable? Why?"
   ]
  },
  {
   "cell_type": "code",
   "execution_count": 31,
   "metadata": {
    "colab": {},
    "colab_type": "code",
    "id": "HGONOtfFXWut"
   },
   "outputs": [],
   "source": [
    "# ANSWER target variable is price which will be predicted based on other independent variables"
   ]
  },
  {
   "cell_type": "markdown",
   "metadata": {
    "colab_type": "text",
    "id": "MDAu8eeXXWuz"
   },
   "source": [
    "#### 2.2 List all possible variables which might be Independent/Predictor variable."
   ]
  },
  {
   "cell_type": "code",
   "execution_count": 32,
   "metadata": {
    "colab": {},
    "colab_type": "code",
    "id": "PEDRGP1EXWu1"
   },
   "outputs": [],
   "source": [
    "# ANSWER beds, baths, type, sq__ft"
   ]
  },
  {
   "cell_type": "markdown",
   "metadata": {
    "colab_type": "text",
    "id": "w9x9iKhcXWu4"
   },
   "source": [
    "#### 2.3 Find correlation between variables\n",
    "\n",
    "Find correlation between variables. Which is the best predictor? Why? State your reason."
   ]
  },
  {
   "cell_type": "code",
   "execution_count": 9,
   "metadata": {
    "colab": {},
    "colab_type": "code",
    "id": "5OZ6kJeyXWu5"
   },
   "outputs": [
    {
     "data": {
      "text/html": [
       "<div>\n",
       "<style scoped>\n",
       "    .dataframe tbody tr th:only-of-type {\n",
       "        vertical-align: middle;\n",
       "    }\n",
       "\n",
       "    .dataframe tbody tr th {\n",
       "        vertical-align: top;\n",
       "    }\n",
       "\n",
       "    .dataframe thead th {\n",
       "        text-align: right;\n",
       "    }\n",
       "</style>\n",
       "<table border=\"1\" class=\"dataframe\">\n",
       "  <thead>\n",
       "    <tr style=\"text-align: right;\">\n",
       "      <th></th>\n",
       "      <th>zip</th>\n",
       "      <th>beds</th>\n",
       "      <th>baths</th>\n",
       "      <th>sq__ft</th>\n",
       "      <th>price</th>\n",
       "      <th>latitude</th>\n",
       "      <th>longitude</th>\n",
       "    </tr>\n",
       "  </thead>\n",
       "  <tbody>\n",
       "    <tr>\n",
       "      <th>zip</th>\n",
       "      <td>1.000000</td>\n",
       "      <td>0.125319</td>\n",
       "      <td>0.069165</td>\n",
       "      <td>0.130108</td>\n",
       "      <td>-0.093353</td>\n",
       "      <td>-0.290389</td>\n",
       "      <td>-0.539904</td>\n",
       "    </tr>\n",
       "    <tr>\n",
       "      <th>beds</th>\n",
       "      <td>0.125319</td>\n",
       "      <td>1.000000</td>\n",
       "      <td>0.839650</td>\n",
       "      <td>0.684041</td>\n",
       "      <td>0.342024</td>\n",
       "      <td>-0.291307</td>\n",
       "      <td>-0.053993</td>\n",
       "    </tr>\n",
       "    <tr>\n",
       "      <th>baths</th>\n",
       "      <td>0.069165</td>\n",
       "      <td>0.839650</td>\n",
       "      <td>1.000000</td>\n",
       "      <td>0.665690</td>\n",
       "      <td>0.416208</td>\n",
       "      <td>-0.235792</td>\n",
       "      <td>0.016582</td>\n",
       "    </tr>\n",
       "    <tr>\n",
       "      <th>sq__ft</th>\n",
       "      <td>0.130108</td>\n",
       "      <td>0.684041</td>\n",
       "      <td>0.665690</td>\n",
       "      <td>1.000000</td>\n",
       "      <td>0.333897</td>\n",
       "      <td>-0.383274</td>\n",
       "      <td>-0.177742</td>\n",
       "    </tr>\n",
       "    <tr>\n",
       "      <th>price</th>\n",
       "      <td>-0.093353</td>\n",
       "      <td>0.342024</td>\n",
       "      <td>0.416208</td>\n",
       "      <td>0.333897</td>\n",
       "      <td>1.000000</td>\n",
       "      <td>-0.039573</td>\n",
       "      <td>0.284485</td>\n",
       "    </tr>\n",
       "    <tr>\n",
       "      <th>latitude</th>\n",
       "      <td>-0.290389</td>\n",
       "      <td>-0.291307</td>\n",
       "      <td>-0.235792</td>\n",
       "      <td>-0.383274</td>\n",
       "      <td>-0.039573</td>\n",
       "      <td>1.000000</td>\n",
       "      <td>0.387925</td>\n",
       "    </tr>\n",
       "    <tr>\n",
       "      <th>longitude</th>\n",
       "      <td>-0.539904</td>\n",
       "      <td>-0.053993</td>\n",
       "      <td>0.016582</td>\n",
       "      <td>-0.177742</td>\n",
       "      <td>0.284485</td>\n",
       "      <td>0.387925</td>\n",
       "      <td>1.000000</td>\n",
       "    </tr>\n",
       "  </tbody>\n",
       "</table>\n",
       "</div>"
      ],
      "text/plain": [
       "                zip      beds     baths    sq__ft     price  latitude  \\\n",
       "zip        1.000000  0.125319  0.069165  0.130108 -0.093353 -0.290389   \n",
       "beds       0.125319  1.000000  0.839650  0.684041  0.342024 -0.291307   \n",
       "baths      0.069165  0.839650  1.000000  0.665690  0.416208 -0.235792   \n",
       "sq__ft     0.130108  0.684041  0.665690  1.000000  0.333897 -0.383274   \n",
       "price     -0.093353  0.342024  0.416208  0.333897  1.000000 -0.039573   \n",
       "latitude  -0.290389 -0.291307 -0.235792 -0.383274 -0.039573  1.000000   \n",
       "longitude -0.539904 -0.053993  0.016582 -0.177742  0.284485  0.387925   \n",
       "\n",
       "           longitude  \n",
       "zip        -0.539904  \n",
       "beds       -0.053993  \n",
       "baths       0.016582  \n",
       "sq__ft     -0.177742  \n",
       "price       0.284485  \n",
       "latitude    0.387925  \n",
       "longitude   1.000000  "
      ]
     },
     "execution_count": 9,
     "metadata": {},
     "output_type": "execute_result"
    }
   ],
   "source": [
    "# ANSWER\n",
    "house_csv.corr()"
   ]
  },
  {
   "cell_type": "code",
   "execution_count": 13,
   "metadata": {},
   "outputs": [
    {
     "data": {
      "text/plain": [
       "<matplotlib.collections.PathCollection at 0x1fad5d1dbb0>"
      ]
     },
     "execution_count": 13,
     "metadata": {},
     "output_type": "execute_result"
    },
    {
     "data": {
      "image/png": "[encoded data removed]",
      "text/plain": [
       "<Figure size 432x288 with 1 Axes>"
      ]
     },
     "metadata": {
      "needs_background": "light"
     },
     "output_type": "display_data"
    }
   ],
   "source": [
    "import matplotlib.pyplot as plt\n",
    "plt.scatter(house_csv['baths'],house_csv['price'])"
   ]
  },
  {
   "cell_type": "markdown",
   "metadata": {
    "colab_type": "text",
    "id": "tgWfh5snXWu8"
   },
   "source": [
    "#### 2.4 Find Coefficient and Intercept using Linear Regression\n",
    "\n",
    "Using LinearRegression of sklearn.linear_model package find Coefficient and Intercept.\n",
    "\n",
    "Create an instance of LinearRegression.\n",
    "\n",
    "Explore following methods:\n",
    "\n",
    "- fit\n",
    "- predict\n",
    "- score"
   ]
  },
  {
   "cell_type": "code",
   "execution_count": 15,
   "metadata": {
    "colab": {},
    "colab_type": "code",
    "id": "SbiQavKvXWu9"
   },
   "outputs": [],
   "source": [
    "from sklearn.linear_model import LinearRegression"
   ]
  },
  {
   "cell_type": "markdown",
   "metadata": {
    "colab_type": "text",
    "id": "lVWhSV7BXWu_"
   },
   "source": [
    "##### 2.4.1 Fit predictor and target variables using linear regression "
   ]
  },
  {
   "cell_type": "code",
   "execution_count": 18,
   "metadata": {
    "colab": {},
    "colab_type": "code",
    "id": "6cplIG9RXWvA"
   },
   "outputs": [
    {
     "name": "stdout",
     "output_type": "stream",
     "text": [
      "[54.15863969] 162930.16140699777\n"
     ]
    }
   ],
   "source": [
    "# ANSWER\n",
    "\n",
    "X = house_csv['sq__ft'].values.reshape(-1,1)\n",
    "Y = house_csv['price']\n",
    "linreg = LinearRegression()\n",
    "linreg.fit(X,Y)\n",
    "\n",
    "print(linreg.coef_,linreg.intercept_)"
   ]
  },
  {
   "cell_type": "markdown",
   "metadata": {
    "colab_type": "text",
    "id": "0Qv0pyZNXWvC"
   },
   "source": [
    "##### 2.4.2 Find R Score"
   ]
  },
  {
   "cell_type": "markdown",
   "metadata": {
    "colab_type": "text",
    "id": "j5Lix6tlXWvD"
   },
   "source": [
    "Find $R^2$ Using ```score``` method of Linear Regression."
   ]
  },
  {
   "cell_type": "code",
   "execution_count": 19,
   "metadata": {
    "colab": {},
    "colab_type": "code",
    "id": "JrJDTlJrXWvF"
   },
   "outputs": [
    {
     "data": {
      "text/plain": [
       "0.11148717682951437"
      ]
     },
     "execution_count": 19,
     "metadata": {},
     "output_type": "execute_result"
    }
   ],
   "source": [
    "# ANSWER\n",
    "linreg.score(X,Y)"
   ]
  },
  {
   "cell_type": "markdown",
   "metadata": {
    "colab_type": "text",
    "id": "BiVDrqFhXWvN"
   },
   "source": [
    "### 3. Splitting Data"
   ]
  },
  {
   "cell_type": "code",
   "execution_count": 20,
   "metadata": {
    "colab": {},
    "colab_type": "code",
    "id": "I4tgG88GXWvQ"
   },
   "outputs": [],
   "source": [
    "from sklearn.model_selection import train_test_split"
   ]
  },
  {
   "cell_type": "markdown",
   "metadata": {
    "colab_type": "text",
    "id": "hTgSdUpwXWvW"
   },
   "source": [
    "#### 3.1 Create training and testing subsets\n",
    "\n",
    "Hint: Using `train_test_split` Library.\n",
    "\n",
    "```\n",
    "X_train, X_test, y_train, y_test = train_test_split(X, y, test_size=0.33, random_state=42)\n",
    "```"
   ]
  },
  {
   "cell_type": "code",
   "execution_count": 26,
   "metadata": {
    "colab": {},
    "colab_type": "code",
    "id": "iYSlAV_gXWvX"
   },
   "outputs": [],
   "source": [
    "# ANSWER\n",
    "## Create training and testing subsets\n",
    "X_train, X_test, y_train, y_test = train_test_split(X,Y, test_size = 0.2)"
   ]
  },
  {
   "cell_type": "markdown",
   "metadata": {
    "colab_type": "text",
    "id": "P62hTi0IXWva"
   },
   "source": [
    "#### 3.2 Check Shape, Sample of Test Train Data"
   ]
  },
  {
   "cell_type": "code",
   "execution_count": 32,
   "metadata": {
    "colab": {},
    "colab_type": "code",
    "id": "larfqlLQXWvb"
   },
   "outputs": [
    {
     "name": "stdout",
     "output_type": "stream",
     "text": [
      "[[   0]\n",
      " [   0]\n",
      " [1424]\n",
      " [3037]\n",
      " [1373]\n",
      " [1766]\n",
      " [3260]\n",
      " [1685]\n",
      " [1904]\n",
      " [1202]\n",
      " [1009]\n",
      " [   0]\n",
      " [1344]\n",
      " [1598]\n",
      " [1006]\n",
      " [   0]\n",
      " [   0]\n",
      " [1302]\n",
      " [   0]\n",
      " [1376]\n",
      " [1436]\n",
      " [ 810]\n",
      " [   0]\n",
      " [1206]\n",
      " [1624]\n",
      " [1324]\n",
      " [1161]\n",
      " [   0]\n",
      " [1410]\n",
      " [1089]\n",
      " [1327]\n",
      " [1291]\n",
      " [2725]\n",
      " [   0]\n",
      " [1202]\n",
      " [1713]\n",
      " [1516]\n",
      " [1099]\n",
      " [1915]\n",
      " [1159]\n",
      " [1182]\n",
      " [2581]\n",
      " [   0]\n",
      " [3134]\n",
      " [1443]\n",
      " [1098]\n",
      " [1578]\n",
      " [1204]\n",
      " [2789]\n",
      " [1039]\n",
      " [1656]\n",
      " [2325]\n",
      " [1004]\n",
      " [1810]\n",
      " [1720]\n",
      " [ 539]\n",
      " [1032]\n",
      " [   0]\n",
      " [1548]\n",
      " [ 990]\n",
      " [1273]\n",
      " [1799]\n",
      " [   0]\n",
      " [1294]\n",
      " [1112]\n",
      " [2155]\n",
      " [1843]\n",
      " [3134]\n",
      " [1187]\n",
      " [1089]\n",
      " [   0]\n",
      " [ 723]\n",
      " [1249]\n",
      " [1252]\n",
      " [   0]\n",
      " [   0]\n",
      " [1152]\n",
      " [1266]\n",
      " [1394]\n",
      " [1638]\n",
      " [2462]\n",
      " [1089]\n",
      " [1488]\n",
      " [3838]\n",
      " [1127]\n",
      " [1616]\n",
      " [1520]\n",
      " [   0]\n",
      " [   0]\n",
      " [2214]\n",
      " [2053]\n",
      " [1211]\n",
      " [   0]\n",
      " [2960]\n",
      " [1118]\n",
      " [1215]\n",
      " [1161]\n",
      " [2258]\n",
      " [1446]\n",
      " [1264]\n",
      " [1410]\n",
      " [1146]\n",
      " [1158]\n",
      " [1382]\n",
      " [1580]\n",
      " [1118]\n",
      " [1921]\n",
      " [2187]\n",
      " [ 722]\n",
      " [2660]\n",
      " [1961]\n",
      " [2016]\n",
      " [ 844]\n",
      " [   0]\n",
      " [ 836]\n",
      " [1449]\n",
      " [1468]\n",
      " [2605]\n",
      " [3992]\n",
      " [1320]\n",
      " [1320]\n",
      " [   0]\n",
      " [1456]\n",
      " [2790]\n",
      " [ 933]\n",
      " [2085]\n",
      " [   0]\n",
      " [1080]\n",
      " [1039]\n",
      " [1871]\n",
      " [ 623]\n",
      " [1899]\n",
      " [2354]\n",
      " [3440]\n",
      " [1595]\n",
      " [   0]\n",
      " [1120]\n",
      " [1289]\n",
      " [1882]\n",
      " [1134]\n",
      " [1910]\n",
      " [ 970]\n",
      " [ 924]\n",
      " [1830]\n",
      " [   0]\n",
      " [   0]\n",
      " [   0]\n",
      " [2235]\n",
      " [1856]\n",
      " [2347]\n",
      " [   0]\n",
      " [1928]\n",
      " [   0]\n",
      " [1219]\n",
      " [2208]\n",
      " [   0]\n",
      " [1280]\n",
      " [1115]\n",
      " [2555]\n",
      " [1939]\n",
      " [1606]\n",
      " [1207]\n",
      " [2100]\n",
      " [ 760]\n",
      " [1116]\n",
      " [   0]\n",
      " [ 932]\n",
      " [   0]\n",
      " [1166]\n",
      " [ 795]\n",
      " [   0]\n",
      " [1475]\n",
      " [1428]\n",
      " [1022]\n",
      " [2025]\n",
      " [   0]\n",
      " [1264]\n",
      " [   0]\n",
      " [5822]\n",
      " [1112]\n",
      " [1968]\n",
      " [1212]\n",
      " [1463]\n",
      " [1953]\n",
      " [1120]\n",
      " [1448]\n",
      " [1616]\n",
      " [ 810]\n",
      " [1320]\n",
      " [   0]\n",
      " [2372]\n",
      " [   0]\n",
      " [ 888]\n",
      " [   0]\n",
      " [2126]\n",
      " [1789]\n",
      " [1416]\n",
      " [   0]\n",
      " [2367]\n",
      " [   0]\n",
      " [ 588]\n",
      " [1497]\n",
      " [ 800]\n",
      " [1724]\n",
      " [2109]\n",
      " [ 960]\n",
      " [   0]\n",
      " [   0]\n",
      " [1370]\n",
      " [2002]\n",
      " [   0]\n",
      " [3281]\n",
      " [1080]\n",
      " [1623]\n",
      " [1304]\n",
      " [1100]\n",
      " [   0]\n",
      " [1436]\n",
      " [1448]\n",
      " [1188]\n",
      " [   0]\n",
      " [ 918]\n",
      " [2205]\n",
      " [1329]\n",
      " [1621]\n",
      " [1522]\n",
      " [1164]\n",
      " [1229]\n",
      " [1073]\n",
      " [   0]\n",
      " [1420]\n",
      " [1735]\n",
      " [1473]\n",
      " [ 484]\n",
      " [1595]\n",
      " [2170]\n",
      " [   0]\n",
      " [1074]\n",
      " [1154]\n",
      " [1451]\n",
      " [4246]\n",
      " [1393]\n",
      " [1578]\n",
      " [1540]\n",
      " [1082]\n",
      " [1416]\n",
      " [1570]\n",
      " [1917]\n",
      " [1410]\n",
      " [ 611]\n",
      " [ 682]\n",
      " [ 911]\n",
      " [2309]\n",
      " [1440]\n",
      " [1058]\n",
      " [   0]\n",
      " [1326]\n",
      " [1452]\n",
      " [1306]\n",
      " [1170]\n",
      " [   0]\n",
      " [1354]\n",
      " [1043]\n",
      " [   0]\n",
      " [ 800]\n",
      " [1104]\n",
      " [1477]\n",
      " [   0]\n",
      " [1711]\n",
      " [2030]\n",
      " [1032]\n",
      " [1157]\n",
      " [1082]\n",
      " [1174]\n",
      " [1982]\n",
      " [   0]\n",
      " [1120]\n",
      " [   0]\n",
      " [3070]\n",
      " [ 796]\n",
      " [1798]\n",
      " [   0]\n",
      " [3056]\n",
      " [1217]\n",
      " [   0]\n",
      " [1183]\n",
      " [1060]\n",
      " [1900]\n",
      " [1117]\n",
      " [   0]\n",
      " [   0]\n",
      " [ 963]\n",
      " [1364]\n",
      " [ 852]\n",
      " [1416]\n",
      " [1386]\n",
      " [1104]\n",
      " [ 756]\n",
      " [1418]\n",
      " [ 984]\n",
      " [1343]\n",
      " [1341]\n",
      " [1316]\n",
      " [1367]\n",
      " [1258]\n",
      " [1605]\n",
      " [2274]\n",
      " [1887]\n",
      " [1269]\n",
      " [1319]\n",
      " [2607]\n",
      " [1410]\n",
      " [1321]\n",
      " [1465]\n",
      " [1341]\n",
      " [1280]\n",
      " [ 846]\n",
      " [1250]\n",
      " [   0]\n",
      " [ 795]\n",
      " [1235]\n",
      " [ 625]\n",
      " [ 804]\n",
      " [1058]\n",
      " [   0]\n",
      " [1438]\n",
      " [   0]\n",
      " [1456]\n",
      " [1829]\n",
      " [1302]\n",
      " [1808]\n",
      " [1851]\n",
      " [1358]\n",
      " [1056]\n",
      " [   0]\n",
      " [1857]\n",
      " [1093]\n",
      " [1800]\n",
      " [   0]\n",
      " [1011]\n",
      " [2175]\n",
      " [1272]\n",
      " [ 966]\n",
      " [   0]\n",
      " [1075]\n",
      " [1392]\n",
      " [   0]\n",
      " [2896]\n",
      " [1280]\n",
      " [1940]\n",
      " [1559]\n",
      " [1714]\n",
      " [1636]\n",
      " [1207]\n",
      " [   0]\n",
      " [1248]\n",
      " [1543]\n",
      " [2056]\n",
      " [1690]\n",
      " [ 884]\n",
      " [1014]\n",
      " [ 930]\n",
      " [1450]\n",
      " [1329]\n",
      " [2199]\n",
      " [1012]\n",
      " [1962]\n",
      " [2577]\n",
      " [   0]\n",
      " [2575]\n",
      " [1450]\n",
      " [3579]\n",
      " [1577]\n",
      " [2494]\n",
      " [2222]\n",
      " [1179]\n",
      " [1768]\n",
      " [ 936]\n",
      " [1843]\n",
      " [   0]\n",
      " [1371]\n",
      " [1513]\n",
      " [1582]\n",
      " [3741]\n",
      " [   0]\n",
      " [1356]\n",
      " [1844]\n",
      " [1250]\n",
      " [   0]\n",
      " [ 722]\n",
      " [1331]\n",
      " [1915]\n",
      " [   0]\n",
      " [1479]\n",
      " [1337]\n",
      " [2160]\n",
      " [2169]\n",
      " [   0]\n",
      " [   0]\n",
      " [3788]\n",
      " [1744]\n",
      " [1380]\n",
      " [1590]\n",
      " [3357]\n",
      " [   0]\n",
      " [ 796]\n",
      " [   0]\n",
      " [2875]\n",
      " [1801]\n",
      " [2307]\n",
      " [1527]\n",
      " [ 904]\n",
      " [   0]\n",
      " [3468]\n",
      " [ 970]\n",
      " [ 956]\n",
      " [1511]\n",
      " [ 881]\n",
      " [1172]\n",
      " [1315]\n",
      " [1196]\n",
      " [1457]\n",
      " [1892]\n",
      " [   0]\n",
      " [ 840]\n",
      " [1200]\n",
      " [1876]\n",
      " [1380]\n",
      " [2606]\n",
      " [1265]\n",
      " [   0]\n",
      " [   0]\n",
      " [   0]\n",
      " [   0]\n",
      " [2711]\n",
      " [ 924]\n",
      " [1292]\n",
      " [1362]\n",
      " [1120]\n",
      " [2457]\n",
      " [1177]\n",
      " [ 876]\n",
      " [   0]\n",
      " [   0]\n",
      " [2213]\n",
      " [3261]\n",
      " [1348]\n",
      " [ 901]\n",
      " [1716]\n",
      " [1088]\n",
      " [   0]\n",
      " [   0]\n",
      " [1406]\n",
      " [   0]\n",
      " [4303]\n",
      " [1127]\n",
      " [1451]\n",
      " [ 868]\n",
      " [1144]\n",
      " [1390]\n",
      " [   0]\n",
      " [ 864]\n",
      " [1010]\n",
      " [1320]\n",
      " [1150]\n",
      " [   0]\n",
      " [1650]\n",
      " [   0]\n",
      " [   0]\n",
      " [1603]\n",
      " [   0]\n",
      " [1358]\n",
      " [1955]\n",
      " [   0]\n",
      " [ 861]\n",
      " [1457]\n",
      " [ 904]\n",
      " [2109]\n",
      " [2724]\n",
      " [1587]\n",
      " [   0]\n",
      " [1477]\n",
      " [   0]\n",
      " [1300]\n",
      " [ 795]\n",
      " [ 795]\n",
      " [   0]\n",
      " [1580]\n",
      " [   0]\n",
      " [2724]\n",
      " [1354]\n",
      " [ 888]\n",
      " [1092]\n",
      " [1126]\n",
      " [1401]\n",
      " [   0]\n",
      " [ 722]\n",
      " [2169]\n",
      " [1520]\n",
      " [   0]\n",
      " [3389]\n",
      " [ 909]\n",
      " [1340]\n",
      " [1266]\n",
      " [2093]\n",
      " [1888]\n",
      " [1137]\n",
      " [3397]\n",
      " [2280]\n",
      " [1156]\n",
      " [1356]\n",
      " [1678]\n",
      " [   0]\n",
      " [1381]\n",
      " [2734]\n",
      " [   0]\n",
      " [1000]\n",
      " [1050]\n",
      " [1659]\n",
      " [   0]\n",
      " [1751]\n",
      " [ 795]\n",
      " [   0]\n",
      " [1498]\n",
      " [1677]\n",
      " [2447]\n",
      " [1676]\n",
      " [2687]\n",
      " [1182]\n",
      " [1358]\n",
      " [3192]\n",
      " [2367]\n",
      " [   0]\n",
      " [ 975]\n",
      " [   0]\n",
      " [1245]\n",
      " [1011]\n",
      " [1567]\n",
      " [   0]\n",
      " [1543]\n",
      " [1110]\n",
      " [1300]\n",
      " [ 796]\n",
      " [1593]\n",
      " [1549]\n",
      " [ 941]\n",
      " [1174]\n",
      " [   0]\n",
      " [1411]\n",
      " [1287]\n",
      " [1418]\n",
      " [1506]\n",
      " [1284]\n",
      " [2962]\n",
      " [   0]\n",
      " [2280]\n",
      " [ 972]\n",
      " [   0]\n",
      " [1820]\n",
      " [   0]\n",
      " [1018]\n",
      " [1080]\n",
      " [1555]\n",
      " [ 964]\n",
      " [1258]\n",
      " [1993]\n",
      " [2258]\n",
      " [1510]\n",
      " [1406]\n",
      " [   0]\n",
      " [1193]\n",
      " [2295]\n",
      " [1740]\n",
      " [1943]\n",
      " [1686]\n",
      " [ 696]\n",
      " [ 901]\n",
      " [1051]\n",
      " [1407]\n",
      " [1020]\n",
      " [2504]\n",
      " [   0]\n",
      " [1240]\n",
      " [1520]\n",
      " [2800]\n",
      " [1289]\n",
      " [1566]\n",
      " [1093]\n",
      " [3173]\n",
      " [1185]\n",
      " [1828]\n",
      " [1672]\n",
      " [1064]\n",
      " [   0]\n",
      " [   0]\n",
      " [1360]\n",
      " [2306]\n",
      " [ 958]\n",
      " [1609]\n",
      " [1092]\n",
      " [1132]\n",
      " [ 904]\n",
      " [1502]\n",
      " [1472]\n",
      " [ 960]\n",
      " [1139]\n",
      " [1204]\n",
      " [1524]\n",
      " [2026]\n",
      " [ 836]\n",
      " [2329]\n",
      " [   0]\n",
      " [1811]\n",
      " [1285]\n",
      " [2278]\n",
      " [1029]\n",
      " [1019]\n",
      " [1650]\n",
      " [1493]\n",
      " [1788]\n",
      " [   0]\n",
      " [1159]\n",
      " [   0]\n",
      " [1776]\n",
      " [1676]\n",
      " [1144]\n",
      " [3508]\n",
      " [1139]\n",
      " [1655]\n",
      " [   0]\n",
      " [3984]\n",
      " [3881]\n",
      " [1638]\n",
      " [3516]\n",
      " [1936]\n",
      " [   0]\n",
      " [1269]\n",
      " [1082]\n",
      " [1690]\n",
      " [1232]\n",
      " [1216]\n",
      " [2592]\n",
      " [1517]\n",
      " [2295]\n",
      " [1152]\n",
      " [1013]\n",
      " [2503]\n",
      " [1284]\n",
      " [   0]\n",
      " [3433]\n",
      " [1123]\n",
      " [1590]\n",
      " [   0]\n",
      " [ 990]\n",
      " [1276]\n",
      " [1309]\n",
      " [1427]\n",
      " [   0]\n",
      " [1139]\n",
      " [ 948]\n",
      " [1859]\n",
      " [   0]\n",
      " [1477]\n",
      " [1503]\n",
      " [1144]\n",
      " [1338]\n",
      " [3615]\n",
      " [1317]\n",
      " [1715]\n",
      " [1638]\n",
      " [3229]\n",
      " [1627]\n",
      " [1100]\n",
      " [2724]\n",
      " [1695]\n",
      " [ 832]\n",
      " [1851]\n",
      " [ 967]\n",
      " [2824]\n",
      " [1450]\n",
      " [1240]\n",
      " [1578]\n",
      " [   0]\n",
      " [1253]\n",
      " [   0]\n",
      " [1624]\n",
      " [2159]\n",
      " [1439]\n",
      " [1591]\n",
      " [2359]\n",
      " [2096]\n",
      " [2056]\n",
      " [2356]\n",
      " [1466]\n",
      " [1428]\n",
      " [1247]\n",
      " [1122]\n",
      " [1262]\n",
      " [1130]\n",
      " [1587]\n",
      " [1296]\n",
      " [1914]\n",
      " [1485]\n",
      " [ 962]\n",
      " [3670]\n",
      " [1758]\n",
      " [1876]\n",
      " [2787]\n",
      " [   0]\n",
      " [1401]\n",
      " [1721]\n",
      " [2846]\n",
      " [1601]\n",
      " [1795]\n",
      " [1478]\n",
      " [1483]\n",
      " [1039]\n",
      " [1108]\n",
      " [3076]\n",
      " [   0]\n",
      " [1120]\n",
      " [2162]\n",
      " [1362]\n",
      " [   0]\n",
      " [3863]\n",
      " [1890]\n",
      " [1120]\n",
      " [1370]\n",
      " [1269]\n",
      " [1310]\n",
      " [1039]\n",
      " [   0]\n",
      " [   0]\n",
      " [   0]\n",
      " [1838]\n",
      " [1255]\n",
      " [   0]\n",
      " [1691]\n",
      " [ 834]\n",
      " [1261]\n",
      " [1669]\n",
      " [2052]\n",
      " [1039]\n",
      " [1080]\n",
      " [1590]\n",
      " [1067]\n",
      " [1419]\n",
      " [2494]\n",
      " [ 888]\n",
      " [1953]\n",
      " [1305]\n",
      " [1103]\n",
      " [   0]\n",
      " [ 960]\n",
      " [3164]\n",
      " [ 960]\n",
      " [2484]\n",
      " [   0]\n",
      " [2085]\n",
      " [1776]\n",
      " [2004]\n",
      " [1981]\n",
      " [1144]\n",
      " [3009]\n",
      " [3440]\n",
      " [1740]\n",
      " [ 957]\n",
      " [1152]\n",
      " [1541]\n",
      " [1360]\n",
      " [1392]\n",
      " [ 871]\n",
      " [   0]\n",
      " [2142]\n",
      " [2111]\n",
      " [1670]\n",
      " [2068]\n",
      " [   0]\n",
      " [ 988]\n",
      " [2382]\n",
      " [1040]\n",
      " [1174]\n",
      " [1697]\n",
      " [1800]\n",
      " [1872]\n",
      " [1643]\n",
      " [1177]\n",
      " [ 950]]\n",
      "753    267750\n",
      "857    600000\n",
      "464    251000\n",
      "546    528000\n",
      "913    160000\n",
      "        ...  \n",
      "699    207000\n",
      "428    213675\n",
      "172     99000\n",
      "7       91002\n",
      "435    220000\n",
      "Name: price, Length: 788, dtype: int64\n"
     ]
    }
   ],
   "source": [
    "# ANSWER\n",
    "## Check training/test data\n",
    "print(X_train)\n",
    "print(y_train)"
   ]
  },
  {
   "cell_type": "code",
   "execution_count": 31,
   "metadata": {},
   "outputs": [
    {
     "name": "stdout",
     "output_type": "stream",
     "text": [
      "<class 'numpy.ndarray'>\n",
      "<class 'numpy.ndarray'>\n",
      "<class 'pandas.core.series.Series'>\n",
      "<class 'pandas.core.series.Series'>\n"
     ]
    }
   ],
   "source": [
    "print(type(X_train))\n",
    "print(type(X_test))\n",
    "print(type(y_train))\n",
    "print(type(y_test))"
   ]
  },
  {
   "cell_type": "markdown",
   "metadata": {
    "colab_type": "text",
    "id": "FhemsdjyXWvd"
   },
   "source": [
    "#### 3.3 Using Linear Regression Find The Score\n",
    "\n",
    "1. Fit model using X_train, y_train\n",
    "2. Find score using X_test, y_test"
   ]
  },
  {
   "cell_type": "code",
   "execution_count": 33,
   "metadata": {
    "colab": {},
    "colab_type": "code",
    "id": "yqNCjOW3XWve"
   },
   "outputs": [
    {
     "name": "stdout",
     "output_type": "stream",
     "text": [
      "[55.55735276] 160765.8561610982\n"
     ]
    }
   ],
   "source": [
    "# ANSWER\n",
    "\n",
    "linreg = LinearRegression()\n",
    "linreg.fit(X_train, y_train)\n",
    "\n",
    "print(linreg.coef_, linreg.intercept_)"
   ]
  },
  {
   "cell_type": "code",
   "execution_count": 34,
   "metadata": {
    "colab": {},
    "colab_type": "code",
    "id": "rT5Qvx_pXWvi"
   },
   "outputs": [
    {
     "data": {
      "text/plain": [
       "0.0840631844528853"
      ]
     },
     "execution_count": 34,
     "metadata": {},
     "output_type": "execute_result"
    }
   ],
   "source": [
    "# ANSWER\n",
    "#The best possible score is 1.0 and it can be negative (because the model can be arbitrarily worse).\n",
    "linreg.score(X_test,y_test)"
   ]
  },
  {
   "cell_type": "markdown",
   "metadata": {
    "colab_type": "text",
    "id": "wSAtgNXXXWvk"
   },
   "source": [
    "### 4. Predict House Price\n",
    "\n",
    "Let's assume we have information of following house:\n",
    "\n",
    "- street:\t1140 EDMONTON DR\n",
    "- city:\tSACRAMENTO\n",
    "- zip:\t95833\n",
    "- state:\tCA\n",
    "- beds:\t3\n",
    "- baths:\t2\n",
    "- sq__ft:\t1204\n",
    "- type:\tResidential\n",
    "\n",
    "**Predict the price of this house using linear regression model.**"
   ]
  },
  {
   "cell_type": "code",
   "execution_count": 35,
   "metadata": {
    "colab": {},
    "colab_type": "code",
    "id": "zwMk_GoVXWvk"
   },
   "outputs": [
    {
     "data": {
      "text/plain": [
       "(160765.8561610982, array([55.55735276]))"
      ]
     },
     "execution_count": 35,
     "metadata": {},
     "output_type": "execute_result"
    }
   ],
   "source": [
    "# ANSWER\n",
    "linreg.intercept_, linreg.coef_"
   ]
  },
  {
   "cell_type": "code",
   "execution_count": 37,
   "metadata": {},
   "outputs": [
    {
     "data": {
      "text/plain": [
       "array([227656.90888289])"
      ]
     },
     "execution_count": 37,
     "metadata": {},
     "output_type": "execute_result"
    }
   ],
   "source": [
    "beta0 = linreg.intercept_\n",
    "beta1 = linreg.coef_\n",
    "X=1204\n",
    "\n",
    "Ypred = beta1*X + beta0\n",
    "Ypred"
   ]
  },
  {
   "cell_type": "markdown",
   "metadata": {},
   "source": [
    "#### Find the error"
   ]
  },
  {
   "cell_type": "code",
   "execution_count": 38,
   "metadata": {},
   "outputs": [
    {
     "data": {
      "text/plain": [
       "array([360716.7687406 , 210989.7030552 , 230101.43240428, 368883.69959617,\n",
       "       160765.8561611 , 274880.658728  , 248879.81763681, 205045.06630999,\n",
       "       244768.57353265, 160765.8561611 , 226767.99123874, 233101.52945327,\n",
       "       238768.37943468, 299159.22188367, 318882.0821131 , 308103.95567786,\n",
       "       160765.8561611 , 210767.47364416, 160765.8561611 , 160765.8561611 ,\n",
       "       160765.8561611 , 281436.42635356, 160765.8561611 , 235823.83973845,\n",
       "       256213.38820099, 213989.80010418, 160765.8561611 , 213656.45598763,\n",
       "       274602.87196421, 262435.81171   , 234546.020625  , 222712.30448734,\n",
       "       257380.09260893, 299325.89394195, 231045.90740118, 292936.79837467,\n",
       "       250102.07939751, 298770.32041436, 292547.89690535, 224434.58242287,\n",
       "       226101.30300564, 268491.56316072, 254268.88085443, 227934.69564668,\n",
       "       160765.8561611 , 230379.21916808, 245713.04852955, 160765.8561611 ,\n",
       "       160765.8561611 , 218545.50303042, 160765.8561611 , 225712.40153632,\n",
       "       215989.86480351, 160765.8561611 , 218545.50303042, 160765.8561611 ,\n",
       "       194655.84134406, 160765.8561611 , 160765.8561611 , 240824.00148676,\n",
       "       160765.8561611 , 244990.80294368, 248213.1294037 , 405218.20830053,\n",
       "       229156.95740738, 160765.8561611 , 222934.53389838, 202211.64131928,\n",
       "       226767.99123874, 214767.60304281, 211100.81776072, 160765.8561611 ,\n",
       "       251713.24262752, 235823.83973845, 160765.8561611 , 228545.82652703,\n",
       "       160765.8561611 , 160765.8561611 , 251157.66909993, 302437.10569645,\n",
       "       234546.020625  , 259102.37054446, 234601.57797776, 247824.22793439,\n",
       "       241990.7058947 , 160765.8561611 , 277991.87048251, 267935.98963313,\n",
       "       244379.67206333, 233212.64415878, 225212.38536149, 251768.79998028,\n",
       "       207100.68836207, 248657.58822577, 237157.21620467, 240212.87060641,\n",
       "       247157.53970128, 160765.8561611 , 326993.45561591, 261658.00877137,\n",
       "       266602.61316692, 241435.13236711, 300103.69688057, 229212.51476014,\n",
       "       220767.79714078, 283992.06458047, 298270.30423953, 249435.3911644 ,\n",
       "       233545.98827534, 235934.95444397, 285992.1292798 , 283658.72046392,\n",
       "       223212.32066217, 241212.90295607, 222990.09125113, 224101.23830631,\n",
       "       238546.15002364, 257213.42055065, 160765.8561611 , 263935.86023449,\n",
       "       241990.7058947 , 259102.37054446, 221545.6000794 , 256713.40437582,\n",
       "       271602.77491523, 204045.03396033, 251213.22645269, 216712.11038937,\n",
       "       259435.71466101, 216212.09421454, 290436.71750051, 160765.8561611 ,\n",
       "       281103.08223701, 160765.8561611 , 160765.8561611 , 279436.36165424,\n",
       "       249435.3911644 , 207322.91777311, 215434.29127592, 280936.41017873,\n",
       "       252213.25880235, 216323.20892006, 227379.12211909, 237435.00296846,\n",
       "       226823.5485915 , 252602.16027166, 219156.63391077, 225323.50006701,\n",
       "       242935.1808916 , 320604.36004863, 222101.17360699, 248213.1294037 ,\n",
       "       225601.28683081, 160765.8561611 , 256046.71614272, 230768.12063739,\n",
       "       267547.08816382, 283658.72046392, 160765.8561611 , 226045.74565288,\n",
       "       224767.92653942, 230879.23534291, 253602.19262132, 223378.99272045,\n",
       "       361439.01432647, 160765.8561611 , 160765.8561611 , 280825.29547321,\n",
       "       245824.16323507, 204933.95160447, 254379.99555995, 160765.8561611 ,\n",
       "       239101.72355123, 231712.59563429, 228323.59711599, 271380.54550419,\n",
       "       207434.03247863, 222990.09125113, 296436.91159848, 260769.09112723,\n",
       "       234601.57797776, 226101.30300564, 212100.85011038, 160765.8561611 ,\n",
       "       222101.17360699, 236657.20002984, 204100.59131309, 291103.40573362,\n",
       "       160765.8561611 , 264713.66317311, 282158.67193943, 160765.8561611 ,\n",
       "       160765.8561611 , 160765.8561611 , 160765.8561611 , 251824.35733304,\n",
       "       255880.04408444])"
      ]
     },
     "execution_count": 38,
     "metadata": {},
     "output_type": "execute_result"
    }
   ],
   "source": [
    "# Predict price from X_test\n",
    "y_predT = linreg.predict(X_test)\n",
    "y_predT"
   ]
  },
  {
   "cell_type": "code",
   "execution_count": 40,
   "metadata": {},
   "outputs": [
    {
     "data": {
      "text/plain": [
       "17545690290.29107"
      ]
     },
     "execution_count": 40,
     "metadata": {},
     "output_type": "execute_result"
    }
   ],
   "source": [
    "#TO FIND ERROR\n",
    "from sklearn.metrics import mean_squared_error\n",
    "\n",
    "mean_squared_error(y_test, y_predT, squared=True)"
   ]
  },
  {
   "cell_type": "markdown",
   "metadata": {
    "colab_type": "text",
    "id": "fRx7LEfql5pu"
   },
   "source": [
    "\n",
    "\n",
    "---\n",
    "\n",
    "\n",
    "\n",
    "---\n",
    "\n",
    "\n",
    "\n",
    "> > > > > > > > > © 2019 Institute of Data\n",
    "\n",
    "\n",
    "---\n",
    "\n",
    "\n",
    "\n",
    "---\n",
    "\n",
    "\n",
    "\n"
   ]
  }
 ],
 "metadata": {
  "colab": {
   "collapsed_sections": [],
   "name": "DSIA Lab 4.1.2.ipynb",
   "provenance": []
  },
  "kernelspec": {
   "display_name": "Python 3",
   "language": "python",
   "name": "python3"
  },
  "language_info": {
   "codemirror_mode": {
    "name": "ipython",
    "version": 3
   },
   "file_extension": ".py",
   "mimetype": "text/x-python",
   "name": "python",
   "nbconvert_exporter": "python",
   "pygments_lexer": "ipython3",
   "version": "3.8.3"
  }
 },
 "nbformat": 4,
 "nbformat_minor": 1
}
