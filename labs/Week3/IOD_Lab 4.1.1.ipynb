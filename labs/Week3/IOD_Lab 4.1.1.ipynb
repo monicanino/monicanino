{
 "cells": [
  {
   "cell_type": "markdown",
   "metadata": {
    "colab_type": "text",
    "id": "jZSSKjAWXd3j"
   },
   "source": [
    "<div>\n",
    "<img src=https://www.institutedata.com/wp-content/uploads/2019/10/iod_h_tp_primary_c.svg width=\"300\">\n",
    "</div>"
   ]
  },
  {
   "cell_type": "markdown",
   "metadata": {
    "colab_type": "text",
    "id": "2Ms9riXMXd3k"
   },
   "source": [
    "# Lab 4.1.1 Linear Regression"
   ]
  },
  {
   "cell_type": "markdown",
   "metadata": {
    "colab_type": "text",
    "id": "twocr7v8Xd3l"
   },
   "source": [
    "## Prediction of House Price Using Linear Regression"
   ]
  },
  {
   "cell_type": "markdown",
   "metadata": {
    "colab_type": "text",
    "id": "0j3ZiTCPXd3m"
   },
   "source": [
    "### Data\n",
    "\n",
    "The Sacramento real estate transactions file is a list of 985 real estate transactions in the Sacramento area reported over a five-day period, as reported by the Sacramento Bee."
   ]
  },
  {
   "cell_type": "code",
   "execution_count": 1,
   "metadata": {
    "colab": {},
    "colab_type": "code",
    "id": "hejYh49cXd3n"
   },
   "outputs": [],
   "source": [
    "import pandas as pd\n",
    "import numpy as np\n",
    "import pandas as pd\n",
    "import math\n",
    "import seaborn as sns\n",
    "from scipy import stats\n",
    "from matplotlib import pyplot as plt\n",
    "\n",
    "%matplotlib inline"
   ]
  },
  {
   "cell_type": "markdown",
   "metadata": {
    "colab_type": "text",
    "id": "BlumKNPDXd3q"
   },
   "source": [
    "### 1. Explore Data"
   ]
  },
  {
   "cell_type": "markdown",
   "metadata": {
    "colab_type": "text",
    "id": "h1FUHCAnXd3r"
   },
   "source": [
    "Perform EDA on this dataset. Use what you have learned so far. Be creative. List all your findings."
   ]
  },
  {
   "cell_type": "code",
   "execution_count": 3,
   "metadata": {
    "colab": {},
    "colab_type": "code",
    "id": "C8BX-oTKXd3s"
   },
   "outputs": [],
   "source": [
    "# Read CSV\n",
    "house_csv = pd.read_csv('C://Users/monic/Desktop/data science -insitute of dat/DATA/Sacramento_transactions.csv')"
   ]
  },
  {
   "cell_type": "code",
   "execution_count": 30,
   "metadata": {},
   "outputs": [
    {
     "data": {
      "text/plain": [
       "(985, 12)"
      ]
     },
     "execution_count": 30,
     "metadata": {},
     "output_type": "execute_result"
    }
   ],
   "source": [
    "house_csv.head()\n",
    "house_csv.shape"
   ]
  },
  {
   "cell_type": "code",
   "execution_count": 54,
   "metadata": {
    "scrolled": true
   },
   "outputs": [
    {
     "data": {
      "text/html": [
       "<div>\n",
       "<style scoped>\n",
       "    .dataframe tbody tr th:only-of-type {\n",
       "        vertical-align: middle;\n",
       "    }\n",
       "\n",
       "    .dataframe tbody tr th {\n",
       "        vertical-align: top;\n",
       "    }\n",
       "\n",
       "    .dataframe thead th {\n",
       "        text-align: right;\n",
       "    }\n",
       "</style>\n",
       "<table border=\"1\" class=\"dataframe\">\n",
       "  <thead>\n",
       "    <tr style=\"text-align: right;\">\n",
       "      <th></th>\n",
       "      <th>street</th>\n",
       "      <th>city</th>\n",
       "      <th>zip</th>\n",
       "      <th>state</th>\n",
       "      <th>beds</th>\n",
       "      <th>baths</th>\n",
       "      <th>sq__ft</th>\n",
       "      <th>type</th>\n",
       "      <th>sale_date</th>\n",
       "      <th>price</th>\n",
       "      <th>latitude</th>\n",
       "      <th>longitude</th>\n",
       "    </tr>\n",
       "  </thead>\n",
       "  <tbody>\n",
       "    <tr>\n",
       "      <th>0</th>\n",
       "      <td>3526 HIGH ST</td>\n",
       "      <td>SACRAMENTO</td>\n",
       "      <td>95838</td>\n",
       "      <td>CA</td>\n",
       "      <td>2</td>\n",
       "      <td>1</td>\n",
       "      <td>836</td>\n",
       "      <td>Residential</td>\n",
       "      <td>Wed May 21 00:00:00 EDT 2008</td>\n",
       "      <td>59222</td>\n",
       "      <td>38.631913</td>\n",
       "      <td>-121.434879</td>\n",
       "    </tr>\n",
       "    <tr>\n",
       "      <th>1</th>\n",
       "      <td>51 OMAHA CT</td>\n",
       "      <td>SACRAMENTO</td>\n",
       "      <td>95823</td>\n",
       "      <td>CA</td>\n",
       "      <td>3</td>\n",
       "      <td>1</td>\n",
       "      <td>1167</td>\n",
       "      <td>Residential</td>\n",
       "      <td>Wed May 21 00:00:00 EDT 2008</td>\n",
       "      <td>68212</td>\n",
       "      <td>38.478902</td>\n",
       "      <td>-121.431028</td>\n",
       "    </tr>\n",
       "    <tr>\n",
       "      <th>2</th>\n",
       "      <td>2796 BRANCH ST</td>\n",
       "      <td>SACRAMENTO</td>\n",
       "      <td>95815</td>\n",
       "      <td>CA</td>\n",
       "      <td>2</td>\n",
       "      <td>1</td>\n",
       "      <td>796</td>\n",
       "      <td>Residential</td>\n",
       "      <td>Wed May 21 00:00:00 EDT 2008</td>\n",
       "      <td>68880</td>\n",
       "      <td>38.618305</td>\n",
       "      <td>-121.443839</td>\n",
       "    </tr>\n",
       "    <tr>\n",
       "      <th>3</th>\n",
       "      <td>2805 JANETTE WAY</td>\n",
       "      <td>SACRAMENTO</td>\n",
       "      <td>95815</td>\n",
       "      <td>CA</td>\n",
       "      <td>2</td>\n",
       "      <td>1</td>\n",
       "      <td>852</td>\n",
       "      <td>Residential</td>\n",
       "      <td>Wed May 21 00:00:00 EDT 2008</td>\n",
       "      <td>69307</td>\n",
       "      <td>38.616835</td>\n",
       "      <td>-121.439146</td>\n",
       "    </tr>\n",
       "    <tr>\n",
       "      <th>4</th>\n",
       "      <td>6001 MCMAHON DR</td>\n",
       "      <td>SACRAMENTO</td>\n",
       "      <td>95824</td>\n",
       "      <td>CA</td>\n",
       "      <td>2</td>\n",
       "      <td>1</td>\n",
       "      <td>797</td>\n",
       "      <td>Residential</td>\n",
       "      <td>Wed May 21 00:00:00 EDT 2008</td>\n",
       "      <td>81900</td>\n",
       "      <td>38.519470</td>\n",
       "      <td>-121.435768</td>\n",
       "    </tr>\n",
       "  </tbody>\n",
       "</table>\n",
       "</div>"
      ],
      "text/plain": [
       "             street        city    zip state  beds  baths  sq__ft  \\\n",
       "0      3526 HIGH ST  SACRAMENTO  95838    CA     2      1     836   \n",
       "1       51 OMAHA CT  SACRAMENTO  95823    CA     3      1    1167   \n",
       "2    2796 BRANCH ST  SACRAMENTO  95815    CA     2      1     796   \n",
       "3  2805 JANETTE WAY  SACRAMENTO  95815    CA     2      1     852   \n",
       "4   6001 MCMAHON DR  SACRAMENTO  95824    CA     2      1     797   \n",
       "\n",
       "          type                     sale_date  price   latitude   longitude  \n",
       "0  Residential  Wed May 21 00:00:00 EDT 2008  59222  38.631913 -121.434879  \n",
       "1  Residential  Wed May 21 00:00:00 EDT 2008  68212  38.478902 -121.431028  \n",
       "2  Residential  Wed May 21 00:00:00 EDT 2008  68880  38.618305 -121.443839  \n",
       "3  Residential  Wed May 21 00:00:00 EDT 2008  69307  38.616835 -121.439146  \n",
       "4  Residential  Wed May 21 00:00:00 EDT 2008  81900  38.519470 -121.435768  "
      ]
     },
     "execution_count": 54,
     "metadata": {},
     "output_type": "execute_result"
    }
   ],
   "source": [
    "house_csv.head()"
   ]
  },
  {
   "cell_type": "code",
   "execution_count": 60,
   "metadata": {
    "scrolled": true
   },
   "outputs": [
    {
     "data": {
      "text/html": [
       "<div>\n",
       "<style scoped>\n",
       "    .dataframe tbody tr th:only-of-type {\n",
       "        vertical-align: middle;\n",
       "    }\n",
       "\n",
       "    .dataframe tbody tr th {\n",
       "        vertical-align: top;\n",
       "    }\n",
       "\n",
       "    .dataframe thead th {\n",
       "        text-align: right;\n",
       "    }\n",
       "</style>\n",
       "<table border=\"1\" class=\"dataframe\">\n",
       "  <thead>\n",
       "    <tr style=\"text-align: right;\">\n",
       "      <th></th>\n",
       "      <th>count</th>\n",
       "      <th>mean</th>\n",
       "      <th>std</th>\n",
       "      <th>min</th>\n",
       "      <th>25%</th>\n",
       "      <th>50%</th>\n",
       "      <th>75%</th>\n",
       "      <th>max</th>\n",
       "    </tr>\n",
       "  </thead>\n",
       "  <tbody>\n",
       "    <tr>\n",
       "      <th>zip</th>\n",
       "      <td>985.0</td>\n",
       "      <td>95750.697462</td>\n",
       "      <td>85.176072</td>\n",
       "      <td>95603.000000</td>\n",
       "      <td>95660.000000</td>\n",
       "      <td>95762.000000</td>\n",
       "      <td>95828.000000</td>\n",
       "      <td>95864.000000</td>\n",
       "    </tr>\n",
       "    <tr>\n",
       "      <th>beds</th>\n",
       "      <td>985.0</td>\n",
       "      <td>2.911675</td>\n",
       "      <td>1.307932</td>\n",
       "      <td>0.000000</td>\n",
       "      <td>2.000000</td>\n",
       "      <td>3.000000</td>\n",
       "      <td>4.000000</td>\n",
       "      <td>8.000000</td>\n",
       "    </tr>\n",
       "    <tr>\n",
       "      <th>baths</th>\n",
       "      <td>985.0</td>\n",
       "      <td>1.776650</td>\n",
       "      <td>0.895371</td>\n",
       "      <td>0.000000</td>\n",
       "      <td>1.000000</td>\n",
       "      <td>2.000000</td>\n",
       "      <td>2.000000</td>\n",
       "      <td>5.000000</td>\n",
       "    </tr>\n",
       "    <tr>\n",
       "      <th>sq__ft</th>\n",
       "      <td>985.0</td>\n",
       "      <td>1314.916751</td>\n",
       "      <td>853.048243</td>\n",
       "      <td>0.000000</td>\n",
       "      <td>952.000000</td>\n",
       "      <td>1304.000000</td>\n",
       "      <td>1718.000000</td>\n",
       "      <td>5822.000000</td>\n",
       "    </tr>\n",
       "    <tr>\n",
       "      <th>price</th>\n",
       "      <td>985.0</td>\n",
       "      <td>234144.263959</td>\n",
       "      <td>138365.839085</td>\n",
       "      <td>1551.000000</td>\n",
       "      <td>145000.000000</td>\n",
       "      <td>213750.000000</td>\n",
       "      <td>300000.000000</td>\n",
       "      <td>884790.000000</td>\n",
       "    </tr>\n",
       "    <tr>\n",
       "      <th>latitude</th>\n",
       "      <td>985.0</td>\n",
       "      <td>38.607732</td>\n",
       "      <td>0.145433</td>\n",
       "      <td>38.241514</td>\n",
       "      <td>38.482717</td>\n",
       "      <td>38.626582</td>\n",
       "      <td>38.695589</td>\n",
       "      <td>39.020808</td>\n",
       "    </tr>\n",
       "    <tr>\n",
       "      <th>longitude</th>\n",
       "      <td>985.0</td>\n",
       "      <td>-121.355982</td>\n",
       "      <td>0.138278</td>\n",
       "      <td>-121.551704</td>\n",
       "      <td>-121.446127</td>\n",
       "      <td>-121.376220</td>\n",
       "      <td>-121.295778</td>\n",
       "      <td>-120.597599</td>\n",
       "    </tr>\n",
       "  </tbody>\n",
       "</table>\n",
       "</div>"
      ],
      "text/plain": [
       "           count           mean            std           min            25%  \\\n",
       "zip        985.0   95750.697462      85.176072  95603.000000   95660.000000   \n",
       "beds       985.0       2.911675       1.307932      0.000000       2.000000   \n",
       "baths      985.0       1.776650       0.895371      0.000000       1.000000   \n",
       "sq__ft     985.0    1314.916751     853.048243      0.000000     952.000000   \n",
       "price      985.0  234144.263959  138365.839085   1551.000000  145000.000000   \n",
       "latitude   985.0      38.607732       0.145433     38.241514      38.482717   \n",
       "longitude  985.0    -121.355982       0.138278   -121.551704    -121.446127   \n",
       "\n",
       "                     50%            75%            max  \n",
       "zip         95762.000000   95828.000000   95864.000000  \n",
       "beds            3.000000       4.000000       8.000000  \n",
       "baths           2.000000       2.000000       5.000000  \n",
       "sq__ft       1304.000000    1718.000000    5822.000000  \n",
       "price      213750.000000  300000.000000  884790.000000  \n",
       "latitude       38.626582      38.695589      39.020808  \n",
       "longitude    -121.376220    -121.295778    -120.597599  "
      ]
     },
     "execution_count": 60,
     "metadata": {},
     "output_type": "execute_result"
    }
   ],
   "source": [
    "house_csv.describe().T"
   ]
  },
  {
   "cell_type": "code",
   "execution_count": 63,
   "metadata": {
    "scrolled": true
   },
   "outputs": [
    {
     "data": {
      "text/html": [
       "<div>\n",
       "<style scoped>\n",
       "    .dataframe tbody tr th:only-of-type {\n",
       "        vertical-align: middle;\n",
       "    }\n",
       "\n",
       "    .dataframe tbody tr th {\n",
       "        vertical-align: top;\n",
       "    }\n",
       "\n",
       "    .dataframe thead th {\n",
       "        text-align: right;\n",
       "    }\n",
       "</style>\n",
       "<table border=\"1\" class=\"dataframe\">\n",
       "  <thead>\n",
       "    <tr style=\"text-align: right;\">\n",
       "      <th></th>\n",
       "      <th>count</th>\n",
       "      <th>mean</th>\n",
       "      <th>std</th>\n",
       "      <th>min</th>\n",
       "      <th>25%</th>\n",
       "      <th>50%</th>\n",
       "      <th>75%</th>\n",
       "      <th>max</th>\n",
       "    </tr>\n",
       "  </thead>\n",
       "  <tbody>\n",
       "    <tr>\n",
       "      <th>beds</th>\n",
       "      <td>985.0</td>\n",
       "      <td>2.911675</td>\n",
       "      <td>1.307932</td>\n",
       "      <td>0.000000</td>\n",
       "      <td>2.000000</td>\n",
       "      <td>3.000000</td>\n",
       "      <td>4.000000</td>\n",
       "      <td>8.000000</td>\n",
       "    </tr>\n",
       "    <tr>\n",
       "      <th>baths</th>\n",
       "      <td>985.0</td>\n",
       "      <td>1.776650</td>\n",
       "      <td>0.895371</td>\n",
       "      <td>0.000000</td>\n",
       "      <td>1.000000</td>\n",
       "      <td>2.000000</td>\n",
       "      <td>2.000000</td>\n",
       "      <td>5.000000</td>\n",
       "    </tr>\n",
       "    <tr>\n",
       "      <th>sq__ft</th>\n",
       "      <td>985.0</td>\n",
       "      <td>1314.916751</td>\n",
       "      <td>853.048243</td>\n",
       "      <td>0.000000</td>\n",
       "      <td>952.000000</td>\n",
       "      <td>1304.000000</td>\n",
       "      <td>1718.000000</td>\n",
       "      <td>5822.000000</td>\n",
       "    </tr>\n",
       "    <tr>\n",
       "      <th>price</th>\n",
       "      <td>985.0</td>\n",
       "      <td>234144.263959</td>\n",
       "      <td>138365.839085</td>\n",
       "      <td>1551.000000</td>\n",
       "      <td>145000.000000</td>\n",
       "      <td>213750.000000</td>\n",
       "      <td>300000.000000</td>\n",
       "      <td>884790.000000</td>\n",
       "    </tr>\n",
       "    <tr>\n",
       "      <th>latitude</th>\n",
       "      <td>985.0</td>\n",
       "      <td>38.607732</td>\n",
       "      <td>0.145433</td>\n",
       "      <td>38.241514</td>\n",
       "      <td>38.482717</td>\n",
       "      <td>38.626582</td>\n",
       "      <td>38.695589</td>\n",
       "      <td>39.020808</td>\n",
       "    </tr>\n",
       "    <tr>\n",
       "      <th>longitude</th>\n",
       "      <td>985.0</td>\n",
       "      <td>-121.355982</td>\n",
       "      <td>0.138278</td>\n",
       "      <td>-121.551704</td>\n",
       "      <td>-121.446127</td>\n",
       "      <td>-121.376220</td>\n",
       "      <td>-121.295778</td>\n",
       "      <td>-120.597599</td>\n",
       "    </tr>\n",
       "  </tbody>\n",
       "</table>\n",
       "</div>"
      ],
      "text/plain": [
       "           count           mean            std          min            25%  \\\n",
       "beds       985.0       2.911675       1.307932     0.000000       2.000000   \n",
       "baths      985.0       1.776650       0.895371     0.000000       1.000000   \n",
       "sq__ft     985.0    1314.916751     853.048243     0.000000     952.000000   \n",
       "price      985.0  234144.263959  138365.839085  1551.000000  145000.000000   \n",
       "latitude   985.0      38.607732       0.145433    38.241514      38.482717   \n",
       "longitude  985.0    -121.355982       0.138278  -121.551704    -121.446127   \n",
       "\n",
       "                     50%            75%            max  \n",
       "beds            3.000000       4.000000       8.000000  \n",
       "baths           2.000000       2.000000       5.000000  \n",
       "sq__ft       1304.000000    1718.000000    5822.000000  \n",
       "price      213750.000000  300000.000000  884790.000000  \n",
       "latitude       38.626582      38.695589      39.020808  \n",
       "longitude    -121.376220    -121.295778    -120.597599  "
      ]
     },
     "execution_count": 63,
     "metadata": {},
     "output_type": "execute_result"
    }
   ],
   "source": [
    "# Zip is a categorical value, so it needs to be converted to string\n",
    "house_csv['zip'] = house_csv['zip'].astype(str)\n",
    "house_csv.describe().T"
   ]
  },
  {
   "cell_type": "code",
   "execution_count": 64,
   "metadata": {
    "scrolled": true
   },
   "outputs": [
    {
     "data": {
      "text/html": [
       "<div>\n",
       "<style scoped>\n",
       "    .dataframe tbody tr th:only-of-type {\n",
       "        vertical-align: middle;\n",
       "    }\n",
       "\n",
       "    .dataframe tbody tr th {\n",
       "        vertical-align: top;\n",
       "    }\n",
       "\n",
       "    .dataframe thead th {\n",
       "        text-align: right;\n",
       "    }\n",
       "</style>\n",
       "<table border=\"1\" class=\"dataframe\">\n",
       "  <thead>\n",
       "    <tr style=\"text-align: right;\">\n",
       "      <th></th>\n",
       "      <th>street</th>\n",
       "      <th>city</th>\n",
       "      <th>zip</th>\n",
       "      <th>state</th>\n",
       "      <th>beds</th>\n",
       "      <th>baths</th>\n",
       "      <th>sq__ft</th>\n",
       "      <th>type</th>\n",
       "      <th>sale_date</th>\n",
       "      <th>price</th>\n",
       "      <th>latitude</th>\n",
       "      <th>longitude</th>\n",
       "    </tr>\n",
       "  </thead>\n",
       "  <tbody>\n",
       "    <tr>\n",
       "      <th>73</th>\n",
       "      <td>17 SERASPI CT</td>\n",
       "      <td>SACRAMENTO</td>\n",
       "      <td>95834</td>\n",
       "      <td>CA</td>\n",
       "      <td>0</td>\n",
       "      <td>0</td>\n",
       "      <td>0</td>\n",
       "      <td>Residential</td>\n",
       "      <td>Wed May 21 00:00:00 EDT 2008</td>\n",
       "      <td>206000</td>\n",
       "      <td>38.631481</td>\n",
       "      <td>-121.501880</td>\n",
       "    </tr>\n",
       "    <tr>\n",
       "      <th>89</th>\n",
       "      <td>2866 KARITSA AVE</td>\n",
       "      <td>SACRAMENTO</td>\n",
       "      <td>95833</td>\n",
       "      <td>CA</td>\n",
       "      <td>0</td>\n",
       "      <td>0</td>\n",
       "      <td>0</td>\n",
       "      <td>Residential</td>\n",
       "      <td>Wed May 21 00:00:00 EDT 2008</td>\n",
       "      <td>244500</td>\n",
       "      <td>38.626671</td>\n",
       "      <td>-121.525970</td>\n",
       "    </tr>\n",
       "    <tr>\n",
       "      <th>100</th>\n",
       "      <td>12209 CONSERVANCY WAY</td>\n",
       "      <td>RANCHO CORDOVA</td>\n",
       "      <td>95742</td>\n",
       "      <td>CA</td>\n",
       "      <td>0</td>\n",
       "      <td>0</td>\n",
       "      <td>0</td>\n",
       "      <td>Residential</td>\n",
       "      <td>Wed May 21 00:00:00 EDT 2008</td>\n",
       "      <td>263500</td>\n",
       "      <td>38.553867</td>\n",
       "      <td>-121.219141</td>\n",
       "    </tr>\n",
       "    <tr>\n",
       "      <th>121</th>\n",
       "      <td>5337 DUSTY ROSE WAY</td>\n",
       "      <td>RANCHO CORDOVA</td>\n",
       "      <td>95742</td>\n",
       "      <td>CA</td>\n",
       "      <td>0</td>\n",
       "      <td>0</td>\n",
       "      <td>0</td>\n",
       "      <td>Residential</td>\n",
       "      <td>Wed May 21 00:00:00 EDT 2008</td>\n",
       "      <td>320000</td>\n",
       "      <td>38.528575</td>\n",
       "      <td>-121.228600</td>\n",
       "    </tr>\n",
       "    <tr>\n",
       "      <th>126</th>\n",
       "      <td>2115 SMOKESTACK WAY</td>\n",
       "      <td>SACRAMENTO</td>\n",
       "      <td>95833</td>\n",
       "      <td>CA</td>\n",
       "      <td>0</td>\n",
       "      <td>0</td>\n",
       "      <td>0</td>\n",
       "      <td>Residential</td>\n",
       "      <td>Wed May 21 00:00:00 EDT 2008</td>\n",
       "      <td>339500</td>\n",
       "      <td>38.602416</td>\n",
       "      <td>-121.542965</td>\n",
       "    </tr>\n",
       "    <tr>\n",
       "      <th>...</th>\n",
       "      <td>...</td>\n",
       "      <td>...</td>\n",
       "      <td>...</td>\n",
       "      <td>...</td>\n",
       "      <td>...</td>\n",
       "      <td>...</td>\n",
       "      <td>...</td>\n",
       "      <td>...</td>\n",
       "      <td>...</td>\n",
       "      <td>...</td>\n",
       "      <td>...</td>\n",
       "      <td>...</td>\n",
       "    </tr>\n",
       "    <tr>\n",
       "      <th>901</th>\n",
       "      <td>1530 TOPANGA LN Unit 204</td>\n",
       "      <td>LINCOLN</td>\n",
       "      <td>95648</td>\n",
       "      <td>CA</td>\n",
       "      <td>0</td>\n",
       "      <td>0</td>\n",
       "      <td>0</td>\n",
       "      <td>Condo</td>\n",
       "      <td>Thu May 15 00:00:00 EDT 2008</td>\n",
       "      <td>138000</td>\n",
       "      <td>38.884150</td>\n",
       "      <td>-121.270277</td>\n",
       "    </tr>\n",
       "    <tr>\n",
       "      <th>917</th>\n",
       "      <td>501 POPLAR AVE</td>\n",
       "      <td>WEST SACRAMENTO</td>\n",
       "      <td>95691</td>\n",
       "      <td>CA</td>\n",
       "      <td>0</td>\n",
       "      <td>0</td>\n",
       "      <td>0</td>\n",
       "      <td>Residential</td>\n",
       "      <td>Thu May 15 00:00:00 EDT 2008</td>\n",
       "      <td>165000</td>\n",
       "      <td>38.584526</td>\n",
       "      <td>-121.534609</td>\n",
       "    </tr>\n",
       "    <tr>\n",
       "      <th>934</th>\n",
       "      <td>1550 TOPANGA LN Unit 207</td>\n",
       "      <td>LINCOLN</td>\n",
       "      <td>95648</td>\n",
       "      <td>CA</td>\n",
       "      <td>0</td>\n",
       "      <td>0</td>\n",
       "      <td>0</td>\n",
       "      <td>Condo</td>\n",
       "      <td>Thu May 15 00:00:00 EDT 2008</td>\n",
       "      <td>188000</td>\n",
       "      <td>38.884170</td>\n",
       "      <td>-121.270222</td>\n",
       "    </tr>\n",
       "    <tr>\n",
       "      <th>947</th>\n",
       "      <td>1525 PENNSYLVANIA AVE</td>\n",
       "      <td>WEST SACRAMENTO</td>\n",
       "      <td>95691</td>\n",
       "      <td>CA</td>\n",
       "      <td>0</td>\n",
       "      <td>0</td>\n",
       "      <td>0</td>\n",
       "      <td>Residential</td>\n",
       "      <td>Thu May 15 00:00:00 EDT 2008</td>\n",
       "      <td>200100</td>\n",
       "      <td>38.569943</td>\n",
       "      <td>-121.527539</td>\n",
       "    </tr>\n",
       "    <tr>\n",
       "      <th>970</th>\n",
       "      <td>3557 SODA WAY</td>\n",
       "      <td>SACRAMENTO</td>\n",
       "      <td>95834</td>\n",
       "      <td>CA</td>\n",
       "      <td>0</td>\n",
       "      <td>0</td>\n",
       "      <td>0</td>\n",
       "      <td>Residential</td>\n",
       "      <td>Thu May 15 00:00:00 EDT 2008</td>\n",
       "      <td>224000</td>\n",
       "      <td>38.631026</td>\n",
       "      <td>-121.501879</td>\n",
       "    </tr>\n",
       "  </tbody>\n",
       "</table>\n",
       "<p>108 rows × 12 columns</p>\n",
       "</div>"
      ],
      "text/plain": [
       "                       street             city    zip state  beds  baths  \\\n",
       "73              17 SERASPI CT       SACRAMENTO  95834    CA     0      0   \n",
       "89           2866 KARITSA AVE       SACRAMENTO  95833    CA     0      0   \n",
       "100     12209 CONSERVANCY WAY   RANCHO CORDOVA  95742    CA     0      0   \n",
       "121       5337 DUSTY ROSE WAY   RANCHO CORDOVA  95742    CA     0      0   \n",
       "126       2115 SMOKESTACK WAY       SACRAMENTO  95833    CA     0      0   \n",
       "..                        ...              ...    ...   ...   ...    ...   \n",
       "901  1530 TOPANGA LN Unit 204          LINCOLN  95648    CA     0      0   \n",
       "917            501 POPLAR AVE  WEST SACRAMENTO  95691    CA     0      0   \n",
       "934  1550 TOPANGA LN Unit 207          LINCOLN  95648    CA     0      0   \n",
       "947     1525 PENNSYLVANIA AVE  WEST SACRAMENTO  95691    CA     0      0   \n",
       "970             3557 SODA WAY       SACRAMENTO  95834    CA     0      0   \n",
       "\n",
       "     sq__ft         type                     sale_date   price   latitude  \\\n",
       "73        0  Residential  Wed May 21 00:00:00 EDT 2008  206000  38.631481   \n",
       "89        0  Residential  Wed May 21 00:00:00 EDT 2008  244500  38.626671   \n",
       "100       0  Residential  Wed May 21 00:00:00 EDT 2008  263500  38.553867   \n",
       "121       0  Residential  Wed May 21 00:00:00 EDT 2008  320000  38.528575   \n",
       "126       0  Residential  Wed May 21 00:00:00 EDT 2008  339500  38.602416   \n",
       "..      ...          ...                           ...     ...        ...   \n",
       "901       0        Condo  Thu May 15 00:00:00 EDT 2008  138000  38.884150   \n",
       "917       0  Residential  Thu May 15 00:00:00 EDT 2008  165000  38.584526   \n",
       "934       0        Condo  Thu May 15 00:00:00 EDT 2008  188000  38.884170   \n",
       "947       0  Residential  Thu May 15 00:00:00 EDT 2008  200100  38.569943   \n",
       "970       0  Residential  Thu May 15 00:00:00 EDT 2008  224000  38.631026   \n",
       "\n",
       "      longitude  \n",
       "73  -121.501880  \n",
       "89  -121.525970  \n",
       "100 -121.219141  \n",
       "121 -121.228600  \n",
       "126 -121.542965  \n",
       "..          ...  \n",
       "901 -121.270277  \n",
       "917 -121.534609  \n",
       "934 -121.270222  \n",
       "947 -121.527539  \n",
       "970 -121.501879  \n",
       "\n",
       "[108 rows x 12 columns]"
      ]
     },
     "execution_count": 64,
     "metadata": {},
     "output_type": "execute_result"
    }
   ],
   "source": [
    "#min value of sq_ft,baths and beds is 0 which doesn't seem right.\n",
    "house_csv[house_csv['baths']==0]"
   ]
  },
  {
   "cell_type": "code",
   "execution_count": 66,
   "metadata": {},
   "outputs": [],
   "source": [
    "#new type for for houses that have 0 beds, baths,sqft\n",
    "house_csv.loc[house_csv['beds']==0,'type'] = 'weird'"
   ]
  },
  {
   "cell_type": "code",
   "execution_count": 67,
   "metadata": {},
   "outputs": [
    {
     "data": {
      "text/html": [
       "<div>\n",
       "<style scoped>\n",
       "    .dataframe tbody tr th:only-of-type {\n",
       "        vertical-align: middle;\n",
       "    }\n",
       "\n",
       "    .dataframe tbody tr th {\n",
       "        vertical-align: top;\n",
       "    }\n",
       "\n",
       "    .dataframe thead th {\n",
       "        text-align: right;\n",
       "    }\n",
       "</style>\n",
       "<table border=\"1\" class=\"dataframe\">\n",
       "  <thead>\n",
       "    <tr style=\"text-align: right;\">\n",
       "      <th></th>\n",
       "      <th>street</th>\n",
       "      <th>city</th>\n",
       "      <th>zip</th>\n",
       "      <th>state</th>\n",
       "      <th>beds</th>\n",
       "      <th>baths</th>\n",
       "      <th>sq__ft</th>\n",
       "      <th>type</th>\n",
       "      <th>sale_date</th>\n",
       "      <th>price</th>\n",
       "      <th>latitude</th>\n",
       "      <th>longitude</th>\n",
       "    </tr>\n",
       "  </thead>\n",
       "  <tbody>\n",
       "    <tr>\n",
       "      <th>73</th>\n",
       "      <td>17 SERASPI CT</td>\n",
       "      <td>SACRAMENTO</td>\n",
       "      <td>95834</td>\n",
       "      <td>CA</td>\n",
       "      <td>0</td>\n",
       "      <td>0</td>\n",
       "      <td>0</td>\n",
       "      <td>weird</td>\n",
       "      <td>Wed May 21 00:00:00 EDT 2008</td>\n",
       "      <td>206000</td>\n",
       "      <td>38.631481</td>\n",
       "      <td>-121.501880</td>\n",
       "    </tr>\n",
       "    <tr>\n",
       "      <th>89</th>\n",
       "      <td>2866 KARITSA AVE</td>\n",
       "      <td>SACRAMENTO</td>\n",
       "      <td>95833</td>\n",
       "      <td>CA</td>\n",
       "      <td>0</td>\n",
       "      <td>0</td>\n",
       "      <td>0</td>\n",
       "      <td>weird</td>\n",
       "      <td>Wed May 21 00:00:00 EDT 2008</td>\n",
       "      <td>244500</td>\n",
       "      <td>38.626671</td>\n",
       "      <td>-121.525970</td>\n",
       "    </tr>\n",
       "    <tr>\n",
       "      <th>100</th>\n",
       "      <td>12209 CONSERVANCY WAY</td>\n",
       "      <td>RANCHO CORDOVA</td>\n",
       "      <td>95742</td>\n",
       "      <td>CA</td>\n",
       "      <td>0</td>\n",
       "      <td>0</td>\n",
       "      <td>0</td>\n",
       "      <td>weird</td>\n",
       "      <td>Wed May 21 00:00:00 EDT 2008</td>\n",
       "      <td>263500</td>\n",
       "      <td>38.553867</td>\n",
       "      <td>-121.219141</td>\n",
       "    </tr>\n",
       "    <tr>\n",
       "      <th>121</th>\n",
       "      <td>5337 DUSTY ROSE WAY</td>\n",
       "      <td>RANCHO CORDOVA</td>\n",
       "      <td>95742</td>\n",
       "      <td>CA</td>\n",
       "      <td>0</td>\n",
       "      <td>0</td>\n",
       "      <td>0</td>\n",
       "      <td>weird</td>\n",
       "      <td>Wed May 21 00:00:00 EDT 2008</td>\n",
       "      <td>320000</td>\n",
       "      <td>38.528575</td>\n",
       "      <td>-121.228600</td>\n",
       "    </tr>\n",
       "    <tr>\n",
       "      <th>126</th>\n",
       "      <td>2115 SMOKESTACK WAY</td>\n",
       "      <td>SACRAMENTO</td>\n",
       "      <td>95833</td>\n",
       "      <td>CA</td>\n",
       "      <td>0</td>\n",
       "      <td>0</td>\n",
       "      <td>0</td>\n",
       "      <td>weird</td>\n",
       "      <td>Wed May 21 00:00:00 EDT 2008</td>\n",
       "      <td>339500</td>\n",
       "      <td>38.602416</td>\n",
       "      <td>-121.542965</td>\n",
       "    </tr>\n",
       "    <tr>\n",
       "      <th>...</th>\n",
       "      <td>...</td>\n",
       "      <td>...</td>\n",
       "      <td>...</td>\n",
       "      <td>...</td>\n",
       "      <td>...</td>\n",
       "      <td>...</td>\n",
       "      <td>...</td>\n",
       "      <td>...</td>\n",
       "      <td>...</td>\n",
       "      <td>...</td>\n",
       "      <td>...</td>\n",
       "      <td>...</td>\n",
       "    </tr>\n",
       "    <tr>\n",
       "      <th>901</th>\n",
       "      <td>1530 TOPANGA LN Unit 204</td>\n",
       "      <td>LINCOLN</td>\n",
       "      <td>95648</td>\n",
       "      <td>CA</td>\n",
       "      <td>0</td>\n",
       "      <td>0</td>\n",
       "      <td>0</td>\n",
       "      <td>weird</td>\n",
       "      <td>Thu May 15 00:00:00 EDT 2008</td>\n",
       "      <td>138000</td>\n",
       "      <td>38.884150</td>\n",
       "      <td>-121.270277</td>\n",
       "    </tr>\n",
       "    <tr>\n",
       "      <th>917</th>\n",
       "      <td>501 POPLAR AVE</td>\n",
       "      <td>WEST SACRAMENTO</td>\n",
       "      <td>95691</td>\n",
       "      <td>CA</td>\n",
       "      <td>0</td>\n",
       "      <td>0</td>\n",
       "      <td>0</td>\n",
       "      <td>weird</td>\n",
       "      <td>Thu May 15 00:00:00 EDT 2008</td>\n",
       "      <td>165000</td>\n",
       "      <td>38.584526</td>\n",
       "      <td>-121.534609</td>\n",
       "    </tr>\n",
       "    <tr>\n",
       "      <th>934</th>\n",
       "      <td>1550 TOPANGA LN Unit 207</td>\n",
       "      <td>LINCOLN</td>\n",
       "      <td>95648</td>\n",
       "      <td>CA</td>\n",
       "      <td>0</td>\n",
       "      <td>0</td>\n",
       "      <td>0</td>\n",
       "      <td>weird</td>\n",
       "      <td>Thu May 15 00:00:00 EDT 2008</td>\n",
       "      <td>188000</td>\n",
       "      <td>38.884170</td>\n",
       "      <td>-121.270222</td>\n",
       "    </tr>\n",
       "    <tr>\n",
       "      <th>947</th>\n",
       "      <td>1525 PENNSYLVANIA AVE</td>\n",
       "      <td>WEST SACRAMENTO</td>\n",
       "      <td>95691</td>\n",
       "      <td>CA</td>\n",
       "      <td>0</td>\n",
       "      <td>0</td>\n",
       "      <td>0</td>\n",
       "      <td>weird</td>\n",
       "      <td>Thu May 15 00:00:00 EDT 2008</td>\n",
       "      <td>200100</td>\n",
       "      <td>38.569943</td>\n",
       "      <td>-121.527539</td>\n",
       "    </tr>\n",
       "    <tr>\n",
       "      <th>970</th>\n",
       "      <td>3557 SODA WAY</td>\n",
       "      <td>SACRAMENTO</td>\n",
       "      <td>95834</td>\n",
       "      <td>CA</td>\n",
       "      <td>0</td>\n",
       "      <td>0</td>\n",
       "      <td>0</td>\n",
       "      <td>weird</td>\n",
       "      <td>Thu May 15 00:00:00 EDT 2008</td>\n",
       "      <td>224000</td>\n",
       "      <td>38.631026</td>\n",
       "      <td>-121.501879</td>\n",
       "    </tr>\n",
       "  </tbody>\n",
       "</table>\n",
       "<p>108 rows × 12 columns</p>\n",
       "</div>"
      ],
      "text/plain": [
       "                       street             city    zip state  beds  baths  \\\n",
       "73              17 SERASPI CT       SACRAMENTO  95834    CA     0      0   \n",
       "89           2866 KARITSA AVE       SACRAMENTO  95833    CA     0      0   \n",
       "100     12209 CONSERVANCY WAY   RANCHO CORDOVA  95742    CA     0      0   \n",
       "121       5337 DUSTY ROSE WAY   RANCHO CORDOVA  95742    CA     0      0   \n",
       "126       2115 SMOKESTACK WAY       SACRAMENTO  95833    CA     0      0   \n",
       "..                        ...              ...    ...   ...   ...    ...   \n",
       "901  1530 TOPANGA LN Unit 204          LINCOLN  95648    CA     0      0   \n",
       "917            501 POPLAR AVE  WEST SACRAMENTO  95691    CA     0      0   \n",
       "934  1550 TOPANGA LN Unit 207          LINCOLN  95648    CA     0      0   \n",
       "947     1525 PENNSYLVANIA AVE  WEST SACRAMENTO  95691    CA     0      0   \n",
       "970             3557 SODA WAY       SACRAMENTO  95834    CA     0      0   \n",
       "\n",
       "     sq__ft   type                     sale_date   price   latitude  \\\n",
       "73        0  weird  Wed May 21 00:00:00 EDT 2008  206000  38.631481   \n",
       "89        0  weird  Wed May 21 00:00:00 EDT 2008  244500  38.626671   \n",
       "100       0  weird  Wed May 21 00:00:00 EDT 2008  263500  38.553867   \n",
       "121       0  weird  Wed May 21 00:00:00 EDT 2008  320000  38.528575   \n",
       "126       0  weird  Wed May 21 00:00:00 EDT 2008  339500  38.602416   \n",
       "..      ...    ...                           ...     ...        ...   \n",
       "901       0  weird  Thu May 15 00:00:00 EDT 2008  138000  38.884150   \n",
       "917       0  weird  Thu May 15 00:00:00 EDT 2008  165000  38.584526   \n",
       "934       0  weird  Thu May 15 00:00:00 EDT 2008  188000  38.884170   \n",
       "947       0  weird  Thu May 15 00:00:00 EDT 2008  200100  38.569943   \n",
       "970       0  weird  Thu May 15 00:00:00 EDT 2008  224000  38.631026   \n",
       "\n",
       "      longitude  \n",
       "73  -121.501880  \n",
       "89  -121.525970  \n",
       "100 -121.219141  \n",
       "121 -121.228600  \n",
       "126 -121.542965  \n",
       "..          ...  \n",
       "901 -121.270277  \n",
       "917 -121.534609  \n",
       "934 -121.270222  \n",
       "947 -121.527539  \n",
       "970 -121.501879  \n",
       "\n",
       "[108 rows x 12 columns]"
      ]
     },
     "execution_count": 67,
     "metadata": {},
     "output_type": "execute_result"
    }
   ],
   "source": [
    "house_csv.loc[house_csv['beds']==0]"
   ]
  },
  {
   "cell_type": "markdown",
   "metadata": {
    "colab_type": "text",
    "id": "sIztKXN7Xd3u"
   },
   "source": [
    "### 2. Predict Price"
   ]
  },
  {
   "cell_type": "markdown",
   "metadata": {
    "colab_type": "text",
    "id": "hzXJOP2_Xd3v"
   },
   "source": [
    "We are going to predict `price` from available information."
   ]
  },
  {
   "cell_type": "markdown",
   "metadata": {
    "colab_type": "text",
    "id": "1CMJdXc3Xd3w"
   },
   "source": [
    "#### 2.1 What is the Target Variable? Why?"
   ]
  },
  {
   "cell_type": "code",
   "execution_count": 0,
   "metadata": {
    "colab": {},
    "colab_type": "code",
    "id": "56yN89q2Xd3w"
   },
   "outputs": [],
   "source": [
    "# ANSWER price because that's the variable whose values are going to be modeled and predicted by other variables"
   ]
  },
  {
   "cell_type": "markdown",
   "metadata": {
    "colab_type": "text",
    "id": "7qy-ZmGEXd3z"
   },
   "source": [
    "#### 2.2 List all possible variables which might be Predictor variable."
   ]
  },
  {
   "cell_type": "code",
   "execution_count": 0,
   "metadata": {
    "colab": {},
    "colab_type": "code",
    "id": "nfAq28P_Xd30"
   },
   "outputs": [],
   "source": [
    "# ANSWER type, city, baths, beds, sq_ft"
   ]
  },
  {
   "cell_type": "markdown",
   "metadata": {
    "colab_type": "text",
    "id": "yFZkIpXhXd32"
   },
   "source": [
    "#### 2.3 Find correlation between variables\n",
    "\n",
    "Find correlation between variables. Which is the best predictor? Why? State your reason."
   ]
  },
  {
   "cell_type": "code",
   "execution_count": 5,
   "metadata": {
    "colab": {},
    "colab_type": "code",
    "id": "Nc8FHVnjXd32"
   },
   "outputs": [
    {
     "data": {
      "text/html": [
       "<div>\n",
       "<style scoped>\n",
       "    .dataframe tbody tr th:only-of-type {\n",
       "        vertical-align: middle;\n",
       "    }\n",
       "\n",
       "    .dataframe tbody tr th {\n",
       "        vertical-align: top;\n",
       "    }\n",
       "\n",
       "    .dataframe thead th {\n",
       "        text-align: right;\n",
       "    }\n",
       "</style>\n",
       "<table border=\"1\" class=\"dataframe\">\n",
       "  <thead>\n",
       "    <tr style=\"text-align: right;\">\n",
       "      <th></th>\n",
       "      <th>zip</th>\n",
       "      <th>beds</th>\n",
       "      <th>baths</th>\n",
       "      <th>sq__ft</th>\n",
       "      <th>price</th>\n",
       "      <th>latitude</th>\n",
       "      <th>longitude</th>\n",
       "    </tr>\n",
       "  </thead>\n",
       "  <tbody>\n",
       "    <tr>\n",
       "      <th>zip</th>\n",
       "      <td>1.000000</td>\n",
       "      <td>0.125319</td>\n",
       "      <td>0.069165</td>\n",
       "      <td>0.130108</td>\n",
       "      <td>-0.093353</td>\n",
       "      <td>-0.290389</td>\n",
       "      <td>-0.539904</td>\n",
       "    </tr>\n",
       "    <tr>\n",
       "      <th>beds</th>\n",
       "      <td>0.125319</td>\n",
       "      <td>1.000000</td>\n",
       "      <td>0.839650</td>\n",
       "      <td>0.684041</td>\n",
       "      <td>0.342024</td>\n",
       "      <td>-0.291307</td>\n",
       "      <td>-0.053993</td>\n",
       "    </tr>\n",
       "    <tr>\n",
       "      <th>baths</th>\n",
       "      <td>0.069165</td>\n",
       "      <td>0.839650</td>\n",
       "      <td>1.000000</td>\n",
       "      <td>0.665690</td>\n",
       "      <td>0.416208</td>\n",
       "      <td>-0.235792</td>\n",
       "      <td>0.016582</td>\n",
       "    </tr>\n",
       "    <tr>\n",
       "      <th>sq__ft</th>\n",
       "      <td>0.130108</td>\n",
       "      <td>0.684041</td>\n",
       "      <td>0.665690</td>\n",
       "      <td>1.000000</td>\n",
       "      <td>0.333897</td>\n",
       "      <td>-0.383274</td>\n",
       "      <td>-0.177742</td>\n",
       "    </tr>\n",
       "    <tr>\n",
       "      <th>price</th>\n",
       "      <td>-0.093353</td>\n",
       "      <td>0.342024</td>\n",
       "      <td>0.416208</td>\n",
       "      <td>0.333897</td>\n",
       "      <td>1.000000</td>\n",
       "      <td>-0.039573</td>\n",
       "      <td>0.284485</td>\n",
       "    </tr>\n",
       "    <tr>\n",
       "      <th>latitude</th>\n",
       "      <td>-0.290389</td>\n",
       "      <td>-0.291307</td>\n",
       "      <td>-0.235792</td>\n",
       "      <td>-0.383274</td>\n",
       "      <td>-0.039573</td>\n",
       "      <td>1.000000</td>\n",
       "      <td>0.387925</td>\n",
       "    </tr>\n",
       "    <tr>\n",
       "      <th>longitude</th>\n",
       "      <td>-0.539904</td>\n",
       "      <td>-0.053993</td>\n",
       "      <td>0.016582</td>\n",
       "      <td>-0.177742</td>\n",
       "      <td>0.284485</td>\n",
       "      <td>0.387925</td>\n",
       "      <td>1.000000</td>\n",
       "    </tr>\n",
       "  </tbody>\n",
       "</table>\n",
       "</div>"
      ],
      "text/plain": [
       "                zip      beds     baths    sq__ft     price  latitude  \\\n",
       "zip        1.000000  0.125319  0.069165  0.130108 -0.093353 -0.290389   \n",
       "beds       0.125319  1.000000  0.839650  0.684041  0.342024 -0.291307   \n",
       "baths      0.069165  0.839650  1.000000  0.665690  0.416208 -0.235792   \n",
       "sq__ft     0.130108  0.684041  0.665690  1.000000  0.333897 -0.383274   \n",
       "price     -0.093353  0.342024  0.416208  0.333897  1.000000 -0.039573   \n",
       "latitude  -0.290389 -0.291307 -0.235792 -0.383274 -0.039573  1.000000   \n",
       "longitude -0.539904 -0.053993  0.016582 -0.177742  0.284485  0.387925   \n",
       "\n",
       "           longitude  \n",
       "zip        -0.539904  \n",
       "beds       -0.053993  \n",
       "baths       0.016582  \n",
       "sq__ft     -0.177742  \n",
       "price       0.284485  \n",
       "latitude    0.387925  \n",
       "longitude   1.000000  "
      ]
     },
     "execution_count": 5,
     "metadata": {},
     "output_type": "execute_result"
    }
   ],
   "source": [
    "# ANSWER\n",
    "house_csv.corr()"
   ]
  },
  {
   "cell_type": "markdown",
   "metadata": {
    "colab_type": "text",
    "id": "1vop_P66Xd35"
   },
   "source": [
    "#### 2.4 What is the simplest way to predict price\n",
    "\n",
    "So we have information for 985 houses. What is the easiest way to predict price of a house?"
   ]
  },
  {
   "cell_type": "code",
   "execution_count": 69,
   "metadata": {
    "colab": {},
    "colab_type": "code",
    "id": "p0xBzE9iXd35"
   },
   "outputs": [
    {
     "data": {
      "text/plain": [
       "Index(['street', 'city', 'zip', 'state', 'beds', 'baths', 'sq__ft', 'type',\n",
       "       'sale_date', 'price', 'latitude', 'longitude', 'y_hat', 'yhat'],\n",
       "      dtype='object')"
      ]
     },
     "execution_count": 69,
     "metadata": {},
     "output_type": "execute_result"
    }
   ],
   "source": [
    "# ANSWER with the mean of the price\n",
    "house_csv['yhat'] = house_csv['price'].mean()\n",
    "house_csv.columns"
   ]
  },
  {
   "cell_type": "code",
   "execution_count": 71,
   "metadata": {},
   "outputs": [
    {
     "data": {
      "text/plain": [
       "[<matplotlib.lines.Line2D at 0x1bdf5f94a60>]"
      ]
     },
     "execution_count": 71,
     "metadata": {},
     "output_type": "execute_result"
    },
    {
     "data": {
      "image/png": "[encoded data removed]",
      "text/plain": [
       "<Figure size 432x288 with 1 Axes>"
      ]
     },
     "metadata": {
      "needs_background": "light"
     },
     "output_type": "display_data"
    }
   ],
   "source": [
    "X = house_csv['baths']\n",
    "y = house_csv['price']\n",
    "yhat=house_csv['yhat']\n",
    "\n",
    "plt.scatter(X,y)\n",
    "plt.plot(X,yhat)"
   ]
  },
  {
   "cell_type": "markdown",
   "metadata": {
    "colab_type": "text",
    "id": "8uRWVPNuXd38"
   },
   "source": [
    "#### 2.5 Find Resudals\n",
    "\n",
    "Find difference between actual value and predicted value. Use absolute value."
   ]
  },
  {
   "cell_type": "code",
   "execution_count": 76,
   "metadata": {
    "colab": {},
    "colab_type": "code",
    "id": "PBzfNQsGXd39"
   },
   "outputs": [
    {
     "data": {
      "text/plain": [
       "103452.16956891476"
      ]
     },
     "execution_count": 76,
     "metadata": {},
     "output_type": "execute_result"
    }
   ],
   "source": [
    "# ANSWER\n",
    "resid=abs(house_csv['price'] - house_csv['yhat']).mean()\n",
    "resid"
   ]
  },
  {
   "cell_type": "markdown",
   "metadata": {
    "colab_type": "text",
    "id": "5P61MoAsXd4B"
   },
   "source": [
    "#### 2.6  Predict Using Linear Regression\n",
    "\n",
    "[Simple Linear Regression](https://en.wikipedia.org/wiki/Simple_linear_regression#Fitting_the_regression_line)\n",
    "\n",
    "### $$\\hat{y} = \\beta_0 + \\beta_1 x$$\n",
    "\n",
    "> ### $$ \\beta_1 = \\frac{\\sum_{i=1}^n (y_i - \\bar{y} ) (x_i - \\bar{x} )}{\\sum_{i=1}^n (x_i - \\bar{x})^2} $$\n",
    "\n",
    "and\n",
    "\n",
    "> ### $$ \\beta_0 = \\bar{y} - \\beta_1\\bar{x} $$\n",
    "\n",
    "Given variables:\n",
    "- $\\bar{y}$ : the sample mean of observed values $Y$\n",
    "- $\\bar{x}$ : the sample mean of observed values $X$"
   ]
  },
  {
   "cell_type": "markdown",
   "metadata": {
    "colab_type": "text",
    "id": "drP_xuAKXd4C"
   },
   "source": [
    "##### 2.7 Define X, Y\n",
    "\n",
    "- X = Predictor Variable \n",
    "- Y = Target Variable"
   ]
  },
  {
   "cell_type": "code",
   "execution_count": 78,
   "metadata": {
    "colab": {},
    "colab_type": "code",
    "id": "yPWPQp3VXd4D"
   },
   "outputs": [
    {
     "name": "stdout",
     "output_type": "stream",
     "text": [
      "0      1\n",
      "1      1\n",
      "2      1\n",
      "3      1\n",
      "4      1\n",
      "      ..\n",
      "980    3\n",
      "981    2\n",
      "982    2\n",
      "983    2\n",
      "984    2\n",
      "Name: baths, Length: 985, dtype: int64 0       59222\n",
      "1       68212\n",
      "2       68880\n",
      "3       69307\n",
      "4       81900\n",
      "        ...  \n",
      "980    232425\n",
      "981    234000\n",
      "982    235000\n",
      "983    235301\n",
      "984    235738\n",
      "Name: price, Length: 985, dtype: int64\n"
     ]
    }
   ],
   "source": [
    "# y price, X baths\n",
    "X = house_csv['baths']\n",
    "y = house_csv['price']\n",
    "#print(X,y)"
   ]
  },
  {
   "cell_type": "markdown",
   "metadata": {
    "colab_type": "text",
    "id": "JkV3m-EqXd4F"
   },
   "source": [
    "##### 2.7.A Calculate beta_1\n",
    "\n",
    " ### $$ \\beta_1 = \\frac{\\sum_{i=1}^n (y_i - \\bar{y} ) (x_i - \\bar{x} )}{\\sum_{i=1}^n (x_i - \\bar{x})^2} $$"
   ]
  },
  {
   "cell_type": "code",
   "execution_count": 81,
   "metadata": {},
   "outputs": [
    {
     "name": "stdout",
     "output_type": "stream",
     "text": [
      "1.7766497461928934\n"
     ]
    }
   ],
   "source": [
    "print(np.mean(X))\n",
    "#print(df[X].mean())"
   ]
  },
  {
   "cell_type": "code",
   "execution_count": 84,
   "metadata": {
    "colab": {},
    "colab_type": "code",
    "id": "lcI1IAmXXd4G",
    "scrolled": true
   },
   "outputs": [
    {
     "name": "stdout",
     "output_type": "stream",
     "text": [
      "Beta = 24656.421129931907\n"
     ]
    }
   ],
   "source": [
    "# ANSWER\n",
    "#means\n",
    "xmean=np.mean(x)\n",
    "ymean=np.mean(y)\n",
    "#calculate numerator and denominator\n",
    "xycov = (X-xmean)* (y-ymean)\n",
    "xvar = np.square(X-xmean)\n",
    "#calculate beta \n",
    "\n",
    "beta_1=np.sum(xycov)/np.sum(xvar)\n",
    "print(f'Beta = {beta_1}')"
   ]
  },
  {
   "cell_type": "code",
   "execution_count": 85,
   "metadata": {},
   "outputs": [],
   "source": [
    "def calculate_beta_1(X, Y):\n",
    "    Xbar = X.mean()\n",
    "    Ybar = Y.mean()\n",
    "    \n",
    "    n = np.sum((Y - Ybar) * (X - Xbar)) \n",
    "    d = np.sum(np.square(X - Xbar)) \n",
    "    \n",
    "    beta_1t = n/d\n",
    "    \n",
    "    return beta_1t"
   ]
  },
  {
   "cell_type": "code",
   "execution_count": 87,
   "metadata": {},
   "outputs": [
    {
     "data": {
      "text/plain": [
       "64318.535236734744"
      ]
     },
     "execution_count": 87,
     "metadata": {},
     "output_type": "execute_result"
    }
   ],
   "source": [
    "beta_1t = calculate_beta_1(X, y)\n",
    "beta_1t"
   ]
  },
  {
   "cell_type": "markdown",
   "metadata": {
    "colab_type": "text",
    "id": "MoA9ez44Xd4I"
   },
   "source": [
    "##### 2.7.B Calculate beta_0"
   ]
  },
  {
   "cell_type": "markdown",
   "metadata": {
    "colab_type": "text",
    "id": "V7fug5lMXd4K"
   },
   "source": [
    "### $$ \\beta_0 = \\bar{y} - \\beta_1\\bar{x} $$"
   ]
  },
  {
   "cell_type": "code",
   "execution_count": 88,
   "metadata": {
    "colab": {},
    "colab_type": "code",
    "id": "bcu8ZhFLXd4L"
   },
   "outputs": [
    {
     "data": {
      "text/plain": [
       "162352.77583690893"
      ]
     },
     "execution_count": 88,
     "metadata": {},
     "output_type": "execute_result"
    }
   ],
   "source": [
    "# ANSWER\n",
    "beta_0=ymean-(beta_1*xmean)\n",
    "beta_0"
   ]
  },
  {
   "cell_type": "code",
   "execution_count": 90,
   "metadata": {},
   "outputs": [],
   "source": [
    "def calculate_beta_0(x,y):\n",
    "    Xbar = X.mean()\n",
    "    Ybar = y.mean()\n",
    "    \n",
    "    beta_0t = Ybar - calculate_beta_1(X, y) * Xbar\n",
    "    \n",
    "    return beta_0t"
   ]
  },
  {
   "cell_type": "code",
   "execution_count": 92,
   "metadata": {},
   "outputs": [
    {
     "data": {
      "text/plain": [
       "119872.75465554741"
      ]
     },
     "execution_count": 92,
     "metadata": {},
     "output_type": "execute_result"
    }
   ],
   "source": [
    "beta_0t = calculate_beta_0(X, y)\n",
    "beta_0t"
   ]
  },
  {
   "cell_type": "markdown",
   "metadata": {
    "colab_type": "text",
    "id": "Z9EUGv1KXd4N"
   },
   "source": [
    "##### 2.7.C Find Yhat (Predicted Value Using Beta 0 and Beta 1)"
   ]
  },
  {
   "cell_type": "markdown",
   "metadata": {
    "colab_type": "text",
    "id": "gSRcDL57Xd4O"
   },
   "source": [
    "### $$\\hat{y} = \\beta_0 + \\beta_1 x$$"
   ]
  },
  {
   "cell_type": "code",
   "execution_count": 93,
   "metadata": {
    "colab": {},
    "colab_type": "code",
    "id": "lGkoNedwXd4P"
   },
   "outputs": [
    {
     "data": {
      "text/plain": [
       "0      187009.196967\n",
       "1      187009.196967\n",
       "2      187009.196967\n",
       "3      187009.196967\n",
       "4      187009.196967\n",
       "           ...      \n",
       "980    236322.039227\n",
       "981    211665.618097\n",
       "982    211665.618097\n",
       "983    211665.618097\n",
       "984    211665.618097\n",
       "Name: baths, Length: 985, dtype: float64"
      ]
     },
     "execution_count": 93,
     "metadata": {},
     "output_type": "execute_result"
    }
   ],
   "source": [
    "# ANSWER\n",
    "yhat=beta_0+beta_1*X\n",
    "yhat"
   ]
  },
  {
   "cell_type": "markdown",
   "metadata": {
    "colab_type": "text",
    "id": "h1D-rddfXd4R"
   },
   "source": [
    "##### 2.7.D Find Resudals"
   ]
  },
  {
   "cell_type": "markdown",
   "metadata": {
    "colab_type": "text",
    "id": "2cha8XAQXd4S"
   },
   "source": [
    "### $$ \\text{residual}_i = y_i - \\hat{y}_i$$"
   ]
  },
  {
   "cell_type": "code",
   "execution_count": 55,
   "metadata": {
    "colab": {},
    "colab_type": "code",
    "id": "dLZgRjbGXd4S"
   },
   "outputs": [
    {
     "data": {
      "text/plain": [
       "0      141935.447427\n",
       "1      169128.091396\n",
       "2      132277.447427\n",
       "3      131850.447427\n",
       "4      119257.447427\n",
       "           ...      \n",
       "980     41097.735365\n",
       "981      3340.091396\n",
       "982      2340.091396\n",
       "983     38221.735365\n",
       "984      1602.091396\n",
       "Length: 985, dtype: float64"
      ]
     },
     "execution_count": 55,
     "metadata": {},
     "output_type": "execute_result"
    }
   ],
   "source": [
    "# ANSWER\n",
    "residual=df['y']-yhat\n",
    "abs(residual)"
   ]
  },
  {
   "cell_type": "markdown",
   "metadata": {
    "colab_type": "text",
    "id": "bpXEda_uXd4U"
   },
   "source": [
    "##### 2.7.E Find R-Square\n",
    "\n",
    "The coefficient $R^2$ is defined as $$ R^2 = 1 - \\frac{SS_{res}}{SS_{tot}} $$, where $$ SS_{res} $$ is the residual sum of squares $$ SS_{res} = \\sum_{i=1}^n \\left(y_i - \\hat{y}_i\\right)^2 $$ and $$ SS_{res} $$ is the total sum of squares $$ SS_{tot} = \\sum_{i=1}^n \\left(y_i - \\bar{y}\\right)^2 $$\n",
    "\n",
    "The best possible score is 1.0 and it can be negative (because the model can be arbitrarily worse).\n",
    "\n",
    "**Write a function to calculate R- Square value.**"
   ]
  },
  {
   "cell_type": "markdown",
   "metadata": {
    "colab_type": "text",
    "id": "1RamI9LTXd4V"
   },
   "source": [
    "The total sum of squares:\n",
    "\n",
    "### $$ SS_{tot} = \\sum_{i=1}^n \\left(y_i - \\bar{y}\\right)^2 $$\n",
    "\n",
    "The residual sum of squares:\n",
    "\n",
    "### $$ SS_{res} = \\sum_{i=1}^n \\left(y_i - \\hat{y}_i\\right)^2 $$\n",
    "\n",
    "$R^2$:\n",
    "\n",
    "### $$ R^2 = 1 - \\frac{SS_{res}}{SS_{tot}} $$"
   ]
  },
  {
   "cell_type": "code",
   "execution_count": 46,
   "metadata": {},
   "outputs": [
    {
     "name": "stdout",
     "output_type": "stream",
     "text": [
      "3.469446951953614e-16\n"
     ]
    }
   ],
   "source": [
    "print(np.sum(df['y']-ymean)**2)"
   ]
  },
  {
   "cell_type": "code",
   "execution_count": 56,
   "metadata": {
    "colab": {},
    "colab_type": "code",
    "id": "vmxloC2RXd4W"
   },
   "outputs": [],
   "source": [
    "# ANSWER\n",
    "def rsquare(y,yhat):\n",
    "    sstot=np.sum(y-ymean)**2\n",
    "    ssres=np.sum(y-yhat)**2\n",
    "    return 1- (ssres/sstot) "
   ]
  },
  {
   "cell_type": "code",
   "execution_count": 58,
   "metadata": {},
   "outputs": [
    {
     "data": {
      "text/plain": [
       "0.0"
      ]
     },
     "execution_count": 58,
     "metadata": {},
     "output_type": "execute_result"
    }
   ],
   "source": [
    "rsquared = rsquare(y,np.mean(y))\n",
    "rsquared"
   ]
  },
  {
   "cell_type": "markdown",
   "metadata": {
    "colab_type": "text",
    "id": "7xV-CEKcXd4a"
   },
   "source": [
    "##### 2.7.F [BONUS] Draw Plot of Predicted Line"
   ]
  },
  {
   "cell_type": "code",
   "execution_count": 49,
   "metadata": {
    "colab": {},
    "colab_type": "code",
    "id": "P4JKmHWSXd4a"
   },
   "outputs": [
    {
     "data": {
      "text/plain": [
       "Text(0, 0.5, 'Predicted values')"
      ]
     },
     "execution_count": 49,
     "metadata": {},
     "output_type": "execute_result"
    },
    {
     "data": {
      "image/png": "[encoded data removed]",
      "text/plain": [
       "<Figure size 432x288 with 1 Axes>"
      ]
     },
     "metadata": {
      "needs_background": "light"
     },
     "output_type": "display_data"
    }
   ],
   "source": [
    "# ANSWER\n",
    "import matplotlib.pyplot as plt\n",
    "plt.scatter(y,yhat)\n",
    "plt.xlabel('Actual values')\n",
    "plt.ylabel('Predicted values')\n",
    "#plt.plot(np.unique(y), np.poly1d(np.polyfit(y, yhat, 1))(np.unique(y)))\n",
    "\n"
   ]
  },
  {
   "cell_type": "code",
   "execution_count": 95,
   "metadata": {},
   "outputs": [],
   "source": [
    "def draw_plot(X, Y, Yhat):\n",
    "    ### Plot the data\n",
    "    # create a figure\n",
    "    fig = plt.figure(figsize=(15,7))\n",
    "    # get the axis of that figure\n",
    "    ax = plt.gca()\n",
    "\n",
    "    # plot a scatter plot on it with our data\n",
    "    ax.scatter(X, y, c='b')\n",
    "    ax.plot(X, Yhat, color='r');\n",
    "\n",
    "    plt.show();"
   ]
  },
  {
   "cell_type": "code",
   "execution_count": 96,
   "metadata": {},
   "outputs": [
    {
     "data": {
      "text/plain": [
       "<seaborn.axisgrid.FacetGrid at 0x1bdf5f86f10>"
      ]
     },
     "execution_count": 96,
     "metadata": {},
     "output_type": "execute_result"
    },
    {
     "data": {
      "image/png": "[encoded data removed]",
      "text/plain": [
       "<Figure size 360x360 with 1 Axes>"
      ]
     },
     "metadata": {
      "needs_background": "light"
     },
     "output_type": "display_data"
    }
   ],
   "source": [
    "##can I use sns do I need to add yhat to df columns\n",
    "df['yhat']=yhat\n",
    "import seaborn as sns\n",
    "sns.lmplot(x = 'y',y = 'yhat', data=df,fit_reg = True)"
   ]
  },
  {
   "cell_type": "code",
   "execution_count": 97,
   "metadata": {},
   "outputs": [
    {
     "data": {
      "image/png": "[encoded data removed]",
      "text/plain": [
       "<Figure size 1080x504 with 1 Axes>"
      ]
     },
     "metadata": {
      "needs_background": "light"
     },
     "output_type": "display_data"
    }
   ],
   "source": [
    "draw_plot(X,y,yhat)"
   ]
  },
  {
   "cell_type": "markdown",
   "metadata": {
    "colab_type": "text",
    "id": "oE45Z1qaXd4f"
   },
   "source": [
    "##### 2.7.G [BONUS] Draw Plot of Predicted Line With Resudals"
   ]
  },
  {
   "cell_type": "code",
   "execution_count": 0,
   "metadata": {
    "colab": {},
    "colab_type": "code",
    "id": "yBLDh6cAXd4g"
   },
   "outputs": [],
   "source": [
    "# ANSWER"
   ]
  },
  {
   "cell_type": "markdown",
   "metadata": {
    "colab_type": "text",
    "id": "NTjW6xxFXd4i"
   },
   "source": [
    "### 3. Predict House Price\n",
    "\n",
    "Let's assume we have information of following house:\n",
    "\n",
    "- street:\t1140 EDMONTON DR\n",
    "- city:\tSACRAMENTO\n",
    "- zip:\t95833\n",
    "- state:\tCA\n",
    "- beds:\t3\n",
    "- baths:\t2\n",
    "- sq__ft:\t1204\n",
    "- type:\tResidential\n",
    "\n",
    "**Predict the price of this house.**"
   ]
  },
  {
   "cell_type": "code",
   "execution_count": 101,
   "metadata": {
    "colab": {},
    "colab_type": "code",
    "id": "mz5Lx5jGXd4j"
   },
   "outputs": [],
   "source": [
    "# ANSWER\n",
    "xpred = 2"
   ]
  },
  {
   "cell_type": "code",
   "execution_count": 102,
   "metadata": {},
   "outputs": [
    {
     "data": {
      "text/plain": [
       "162352.77583690893"
      ]
     },
     "execution_count": 102,
     "metadata": {},
     "output_type": "execute_result"
    }
   ],
   "source": [
    "beta_0"
   ]
  },
  {
   "cell_type": "code",
   "execution_count": 103,
   "metadata": {},
   "outputs": [
    {
     "data": {
      "text/plain": [
       "24656.421129931907"
      ]
     },
     "execution_count": 103,
     "metadata": {},
     "output_type": "execute_result"
    }
   ],
   "source": [
    "beta_1"
   ]
  },
  {
   "cell_type": "code",
   "execution_count": 104,
   "metadata": {},
   "outputs": [
    {
     "data": {
      "text/plain": [
       "211665.61809677276"
      ]
     },
     "execution_count": 104,
     "metadata": {},
     "output_type": "execute_result"
    }
   ],
   "source": [
    "ypred = beta_1*xpred +beta_0\n",
    "ypred"
   ]
  },
  {
   "cell_type": "markdown",
   "metadata": {
    "colab_type": "text",
    "id": "W0FUjKlcl-NJ"
   },
   "source": [
    "\n",
    "\n",
    "---\n",
    "\n",
    "\n",
    "\n",
    "---\n",
    "\n",
    "\n",
    "\n",
    "> > > > > > > > > © 2019 Institute of Data\n",
    "\n",
    "\n",
    "---\n",
    "\n",
    "\n",
    "\n",
    "---\n",
    "\n",
    "\n",
    "\n"
   ]
  }
 ],
 "metadata": {
  "colab": {
   "collapsed_sections": [],
   "name": "IOD_Lab 4.1.1.ipynb",
   "provenance": []
  },
  "kernelspec": {
   "display_name": "Python 3",
   "language": "python",
   "name": "python3"
  },
  "language_info": {
   "codemirror_mode": {
    "name": "ipython",
    "version": 3
   },
   "file_extension": ".py",
   "mimetype": "text/x-python",
   "name": "python",
   "nbconvert_exporter": "python",
   "pygments_lexer": "ipython3",
   "version": "3.8.3"
  }
 },
 "nbformat": 4,
 "nbformat_minor": 1
}
