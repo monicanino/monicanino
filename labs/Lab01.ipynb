{
 "cells": [
  {
   "cell_type": "markdown",
   "metadata": {
    "colab_type": "text",
    "id": "7KeNKtNL2Ix-"
   },
   "source": [
    "<div>\n",
    "<img src=https://www.institutedata.com/wp-content/uploads/2019/10/iod_h_tp_primary_c.svg width=\"300\">\n",
    "</div>\n",
    "\n",
    "# Python - Lab 1 \n",
    "\n",
    "## Learning objectives\n",
    "\n",
    "This lab demonstrates examples of: \n",
    "\n",
    "1. Creating and manipulating lists\n",
    "2. For loops\n",
    "3. Importing modules and functions\n",
    "4. Creating dictonaries\n",
    "\n",
    "## Instructions:\n",
    "\n",
    "1. Replace ??? with the appropriate code\n",
    "2. Press Shift + Enter to execute cell\n",
    "\n"
   ]
  },
  {
   "cell_type": "code",
   "execution_count": 6,
   "metadata": {
    "colab": {},
    "colab_type": "code",
    "id": "NaRcNY1l2LbD"
   },
   "outputs": [],
   "source": [
    "# create a list of 10 student (use just first name)\n",
    "students = ['maria', 'lisa', 'sharon', 'belinda', 'monica', 'ana', 'juan', 'pablo', 'josh', 'luis']"
   ]
  },
  {
   "cell_type": "code",
   "execution_count": 3,
   "metadata": {
    "colab": {},
    "colab_type": "code",
    "id": "lyMlOgoUZ2R4"
   },
   "outputs": [
    {
     "name": "stdout",
     "output_type": "stream",
     "text": [
      "['maria', 'lisa', 'sharon', 'belinda', 'monica', 'ana', 'juan', 'pablo', 'josh', 'luis']\n"
     ]
    }
   ],
   "source": [
    "# Print the list\n",
    "print(students)"
   ]
  },
  {
   "cell_type": "code",
   "execution_count": 4,
   "metadata": {
    "colab": {},
    "colab_type": "code",
    "id": "LtbLA_T811kr"
   },
   "outputs": [
    {
     "name": "stdout",
     "output_type": "stream",
     "text": [
      "index 00 *maria\n",
      "index 01 *lisa\n",
      "index 02 *sharon\n",
      "index 03 *belinda\n",
      "index 04 *monica\n",
      "index 05 *ana\n",
      "index 06 *juan\n",
      "index 07 *pablo\n",
      "index 08 *josh\n",
      "index 09 *luis\n"
     ]
    }
   ],
   "source": [
    "# print the list of students\n",
    "# in the following format\n",
    "# Index 01 \t Alice\n",
    "# Index 02 \t Bob\n",
    "# Index 03 \t Pradeep\n",
    "for index, students in enumerate(students):\n",
    "    print(\"index 0\" + str(index) + \" *\" + str(students))"
   ]
  },
  {
   "cell_type": "code",
   "execution_count": 7,
   "metadata": {
    "colab": {},
    "colab_type": "code",
    "id": "OF5sj3CX1lHl"
   },
   "outputs": [
    {
     "name": "stdout",
     "output_type": "stream",
     "text": [
      "luis\n",
      "josh\n",
      "pablo\n",
      "juan\n",
      "ana\n",
      "monica\n",
      "belinda\n",
      "sharon\n",
      "lisa\n",
      "maria\n"
     ]
    }
   ],
   "source": [
    "# print the list of students in reverse order one student in a line with its index\n",
    "\n",
    "for i in reversed(students):\n",
    "    print(i)"
   ]
  },
  {
   "cell_type": "code",
   "execution_count": 8,
   "metadata": {
    "colab": {},
    "colab_type": "code",
    "id": "eAdtim4G1pyV"
   },
   "outputs": [
    {
     "name": "stdout",
     "output_type": "stream",
     "text": [
      "['lisa', 'ana', 'pablo', 'sharon', 'josh', 'belinda', 'monica', 'luis', 'maria', 'juan']\n"
     ]
    }
   ],
   "source": [
    "# print the student list in random order\n",
    "# hint look up the function random.sample\n",
    "import random\n",
    "random.shuffle(students)\n",
    "print(students)"
   ]
  },
  {
   "cell_type": "code",
   "execution_count": 26,
   "metadata": {
    "colab": {},
    "colab_type": "code",
    "id": "sfKkL5dt1tqG",
    "scrolled": true
   },
   "outputs": [
    {
     "name": "stdout",
     "output_type": "stream",
     "text": [
      "Students and their marks: \n",
      " {'lisa': 87, 'ana': 45, 'pablo': 76, 'sharon': 64, 'josh': 66, 'belinda': 90, 'monica': 55, 'luis': 73, 'maria': 69, 'juan': 75}\n"
     ]
    }
   ],
   "source": [
    "# list students in order of their exam marks in the following list\n",
    "marks = [87,45,76,64,66,90,55,73,69,75]\n",
    "studentsAndMarks = dict(zip(students, marks))\n",
    "print(f\"Students and their marks: \\n {studentsAndMarks}\")\n"
   ]
  },
  {
   "cell_type": "code",
   "execution_count": 11,
   "metadata": {
    "scrolled": true
   },
   "outputs": [
    {
     "data": {
      "text/plain": [
       "{'belinda': 90,\n",
       " 'lisa': 87,\n",
       " 'pablo': 76,\n",
       " 'juan': 75,\n",
       " 'luis': 73,\n",
       " 'maria': 69,\n",
       " 'josh': 66,\n",
       " 'sharon': 64,\n",
       " 'monica': 55,\n",
       " 'ana': 45}"
      ]
     },
     "execution_count": 11,
     "metadata": {},
     "output_type": "execute_result"
    }
   ],
   "source": [
    "{k:v for k,v in sorted(studentsAndMarks.items(), key=lambda item: item[1], reverse=True)}"
   ]
  },
  {
   "cell_type": "code",
   "execution_count": 29,
   "metadata": {
    "scrolled": true
   },
   "outputs": [
    {
     "data": {
      "text/plain": [
       "[('belinda', 90),\n",
       " ('lisa', 87),\n",
       " ('pablo', 76),\n",
       " ('juan', 75),\n",
       " ('luis', 73),\n",
       " ('maria', 69),\n",
       " ('josh', 66),\n",
       " ('sharon', 64),\n",
       " ('monica', 55),\n",
       " ('ana', 45)]"
      ]
     },
     "execution_count": 29,
     "metadata": {},
     "output_type": "execute_result"
    }
   ],
   "source": [
    "sorted(studentsAndMarks.items(), key=lambda item: item[1], reverse=True)\n",
    "## sort using the object's indices as keys - Item[1] sort by column 1(marks)"
   ]
  },
  {
   "cell_type": "code",
   "execution_count": 10,
   "metadata": {},
   "outputs": [
    {
     "data": {
      "text/plain": [
       "[45, 55, 64, 66, 69, 73, 75, 76, 87, 90]"
      ]
     },
     "execution_count": 10,
     "metadata": {},
     "output_type": "execute_result"
    }
   ],
   "source": [
    "sorted(marks)"
   ]
  },
  {
   "cell_type": "code",
   "execution_count": 13,
   "metadata": {},
   "outputs": [
    {
     "data": {
      "text/plain": [
       "['ana',\n",
       " 'belinda',\n",
       " 'josh',\n",
       " 'juan',\n",
       " 'lisa',\n",
       " 'luis',\n",
       " 'maria',\n",
       " 'monica',\n",
       " 'pablo',\n",
       " 'sharon']"
      ]
     },
     "execution_count": 13,
     "metadata": {},
     "output_type": "execute_result"
    }
   ],
   "source": [
    "sorted(studentsAndMarks)"
   ]
  },
  {
   "cell_type": "code",
   "execution_count": 27,
   "metadata": {
    "scrolled": true
   },
   "outputs": [
    {
     "name": "stdout",
     "output_type": "stream",
     "text": [
      "dict_items([('lisa', 87), ('ana', 45), ('pablo', 76), ('sharon', 64), ('josh', 66), ('belinda', 90), ('monica', 55), ('luis', 73), ('maria', 69), ('juan', 75)])\n"
     ]
    }
   ],
   "source": [
    "print(studentsAndMarks.items())"
   ]
  },
  {
   "cell_type": "code",
   "execution_count": 28,
   "metadata": {},
   "outputs": [
    {
     "name": "stdout",
     "output_type": "stream",
     "text": [
      "{'lisa': 87, 'ana': 45, 'pablo': 76, 'sharon': 64, 'josh': 66, 'belinda': 90, 'monica': 55, 'luis': 73, 'maria': 69, 'juan': 75}\n"
     ]
    }
   ],
   "source": [
    "print(studentsAndMarks)"
   ]
  },
  {
   "cell_type": "code",
   "execution_count": 30,
   "metadata": {
    "colab": {},
    "colab_type": "code",
    "id": "9d9QrXRo182c"
   },
   "outputs": [
    {
     "name": "stdout",
     "output_type": "stream",
     "text": [
      "ana : 45\n",
      "belinda : 90\n",
      "josh : 66\n",
      "juan : 75\n",
      "lisa : 87\n",
      "luis : 73\n",
      "maria : 69\n",
      "monica : 55\n",
      "pablo : 76\n",
      "sharon : 64\n"
     ]
    }
   ],
   "source": [
    "for key in sorted(studentsAndMarks.keys()) :\n",
    "    print (key, \":\", studentsAndMarks[key])"
   ]
  },
  {
   "cell_type": "code",
   "execution_count": null,
   "metadata": {},
   "outputs": [],
   "source": []
  }
 ],
 "metadata": {
  "colab": {
   "collapsed_sections": [],
   "name": "Lab01.ipynb",
   "provenance": []
  },
  "kernelspec": {
   "display_name": "Python 3",
   "language": "python",
   "name": "python3"
  },
  "language_info": {
   "codemirror_mode": {
    "name": "ipython",
    "version": 3
   },
   "file_extension": ".py",
   "mimetype": "text/x-python",
   "name": "python",
   "nbconvert_exporter": "python",
   "pygments_lexer": "ipython3",
   "version": "3.8.3"
  }
 },
 "nbformat": 4,
 "nbformat_minor": 1
}
